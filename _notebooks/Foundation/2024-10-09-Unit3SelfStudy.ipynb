{
 "cells": [
  {
   "cell_type": "markdown",
   "metadata": {},
   "source": [
    "## 3.1 POPCORN HACK"
   ]
  },
  {
   "cell_type": "markdown",
   "metadata": {},
   "source": [
    "1. \n",
    "- string is not in quotations causing an error\n",
    "2. \n",
    "- The precondition for the num parameter in the method getCheck(int num) is that the number of digits in num must be between one and six, inclusive, and num must be greater than or equal to 0 (num >= 0).\n",
    "\n",
    "This means that num should be a non-negative integer with at most six digits."
   ]
  },
  {
   "cell_type": "markdown",
   "metadata": {},
   "source": [
    "## 3.2 POPCORN HACK"
   ]
  },
  {
   "cell_type": "code",
   "execution_count": 2,
   "metadata": {
    "vscode": {
     "languageId": "java"
    }
   },
   "outputs": [
    {
     "name": "stdout",
     "output_type": "stream",
     "text": [
      "Test case: -1 (Negative number): -1\n",
      "Test case: 0 (Zero): 0\n",
      "Test case: 1234567 (More than six digits): -1\n",
      "Test case: 123456 (Valid case): 0\n",
      "Test case: 987654 (Valid case): 0\n"
     ]
    }
   ],
   "source": [
    "public class CheckDigitTest {\n",
    "    public static void main(String[] args) {\n",
    "        // Test cases that do not satisfy the precondition\n",
    "        System.out.println(\"Test case: -1 (Negative number): \" + getCheck(-1));       // Negative number (invalid)\n",
    "        System.out.println(\"Test case: 0 (Zero): \" + getCheck(0));                  // Zero (invalid, no digits)\n",
    "        System.out.println(\"Test case: 1234567 (More than six digits): \" + getCheck(1234567));  // More than six digits (invalid)\n",
    "        System.out.println(\"Test case: 123456 (Valid case): \" + getCheck(123456));   // Exactly six digits (valid)\n",
    "        System.out.println(\"Test case: 987654 (Valid case): \" + getCheck(987654));   // Exactly six digits (valid)\n",
    "    }\n",
    "\n",
    "    // Placeholder implementation for getCheck method\n",
    "    public static int getCheck(int num) {\n",
    "        // Placeholder implementation for testing\n",
    "        if (num < 0 || String.valueOf(num).length() > 6) {\n",
    "            return -1; // return -1 for invalid inputs\n",
    "        }\n",
    "        // Additional logic for valid input would go here\n",
    "        return 0; // Placeholder return value for valid inputs\n",
    "    }\n",
    "}\n",
    "CheckDigitTest.main(null)"
   ]
  },
  {
   "cell_type": "markdown",
   "metadata": {},
   "source": [
    "## 3.3 Popcorn Hack"
   ]
  },
  {
   "cell_type": "code",
   "execution_count": 2,
   "metadata": {
    "vscode": {
     "languageId": "java"
    }
   },
   "outputs": [
    {
     "name": "stdout",
     "output_type": "stream",
     "text": [
      "Random number: The number is negative.\n"
     ]
    }
   ],
   "source": [
    "import java.util.Scanner;\n",
    "\n",
    "public class BasicIfElseExample {\n",
    "    public static void main(String[] args) {\n",
    "        Scanner scanner = new Scanner(System.in);\n",
    "\n",
    "        System.out.print(\"Random number: \");\n",
    "        int number = scanner.nextInt();\n",
    "\n",
    "        if (number > 0) {\n",
    "            System.out.println(\"The number is positive.\");\n",
    "        } else if (number < 0) {\n",
    "            System.out.println(\"The number is negative.\");\n",
    "        } else {\n",
    "            System.out.println(\"The number is zero.\");\n",
    "        }\n",
    "\n",
    "        scanner.close();\n",
    "    }\n",
    "}\n",
    "BasicIfElseExample.main(null)"
   ]
  },
  {
   "cell_type": "markdown",
   "metadata": {},
   "source": [
    "## 3.4 Popcorn Hack"
   ]
  },
  {
   "cell_type": "code",
   "execution_count": 6,
   "metadata": {
    "vscode": {
     "languageId": "java"
    }
   },
   "outputs": [
    {
     "name": "stdout",
     "output_type": "stream",
     "text": [
      "Grade: D\n"
     ]
    }
   ],
   "source": [
    "public class GradeChecker {\n",
    "    public static void main(String[] args) {\n",
    "        int score = 65; \n",
    "\n",
    "        if (score >= 90) {\n",
    "            System.out.println(\"Grade: A\");\n",
    "        } else if (score >= 80) {\n",
    "            System.out.println(\"Grade: B\");\n",
    "        } else if (score >= 70) {\n",
    "            System.out.println(\"Grade: C\");\n",
    "        } else if (score >= 60) {\n",
    "            System.out.println(\"Grade: D\");\n",
    "        } else {\n",
    "            System.out.println(\"Grade: F\");\n",
    "        }\n",
    "    }\n",
    "}\n",
    "GradeChecker.main(null)"
   ]
  },
  {
   "cell_type": "markdown",
   "metadata": {},
   "source": [
    "## 3.6 Popcorn Hack"
   ]
  },
  {
   "cell_type": "code",
   "execution_count": 8,
   "metadata": {
    "vscode": {
     "languageId": "java"
    }
   },
   "outputs": [
    {
     "name": "stdout",
     "output_type": "stream",
     "text": [
      "1. x ≠ to 0\n",
      "3. x is in the range [-5, 10]\n",
      "4. -5 ≤ x ≤ 10\n"
     ]
    }
   ],
   "source": [
    "public class Question {\n",
    "\n",
    "    public static void main(String[] args) {\n",
    "        int x = 7;\n",
    "\n",
    "     \n",
    "        if (!(x == 0)) {\n",
    "            System.out.println(\"1. x ≠ to 0\"); \n",
    "        }\n",
    "        if (!(x > 5 && x < 10)) {\n",
    "            System.out.println(\"2. x is not in the range (5, 10)\"); \n",
    "        }\n",
    "        if (!(x < -5 || x > 10)) {\n",
    "            System.out.println(\"3. x is in the range [-5, 10]\"); \n",
    "        }\n",
    "        if (x >= -5 && x <= 10) {\n",
    "            System.out.println(\"4. -5 ≤ x ≤ 10\"); \n",
    "        }\n",
    "    }\n",
    "}\n",
    "Question.main(null)"
   ]
  },
  {
   "cell_type": "markdown",
   "metadata": {},
   "source": [
    "## 3.7 Popcorn Hack"
   ]
  },
  {
   "cell_type": "markdown",
   "metadata": {},
   "source": [
    "- sharonsHouse and myHouse would be the same by the equals method. This is because they have the same values for both color and size attributes."
   ]
  },
  {
   "cell_type": "markdown",
   "metadata": {},
   "source": [
    "## 3.8 HomeWork Hack\n"
   ]
  },
  {
   "cell_type": "code",
   "execution_count": 9,
   "metadata": {
    "vscode": {
     "languageId": "java"
    }
   },
   "outputs": [
    {
     "name": "stdout",
     "output_type": "stream",
     "text": [
      "What is your age: What is your annual income:  Student? (yes/no):  What is your employment type (full-time, part-time, unemployed):  Elegible for a Student Discount.\n",
      "\n",
      "Recommended: Student Discount.\n"
     ]
    }
   ],
   "source": [
    "import java.util.Scanner;\n",
    "\n",
    "public class PrimeClubMembership {\n",
    "\n",
    "    public static void main(String[] args) {\n",
    "        Scanner scanner = new Scanner(System.in);\n",
    "\n",
    "   \n",
    "        System.out.print(\"What is your age: \");\n",
    "        int age = scanner.nextInt();\n",
    "\n",
    "        System.out.print(\"What is your annual income: \");\n",
    "        double income = scanner.nextDouble();\n",
    "        scanner.nextLine(); \n",
    "\n",
    "        System.out.print(\" Student? (yes/no): \");\n",
    "        String studentStatus = scanner.nextLine().trim().toLowerCase();\n",
    "\n",
    "        System.out.print(\" What is your employment type (full-time, part-time, unemployed): \");\n",
    "        String employmentType = scanner.nextLine().trim().toLowerCase();     \n",
    "        StringBuilder results = new StringBuilder();\n",
    "        if (age >= 18 && income >= 20000) {\n",
    "            results.append(\" Qualify for Basic Membership.\\n\");\n",
    "        }\n",
    "\n",
    "        if (age >= 25 && income >= 50000) {\n",
    "            results.append(\" Qualify for Premium Membership.\\n\");\n",
    "        }\n",
    "\n",
    "        if (studentStatus.equals(\"yes\")) {\n",
    "            results.append(\" Elegible for a Student Discount.\\n\");\n",
    "        }\n",
    "\n",
    "        if (age >= 65) {\n",
    "            results.append(\" Qualify for a Senior Discount.\\n\");\n",
    "        }\n",
    "        if (results.length() > 0) {\n",
    "            System.out.println(results);\n",
    "            \n",
    "            if (age >= 25 && income >= 50000) {\n",
    "                System.out.println(\"Recommended : Premium Membership.\");\n",
    "            } else if (age >= 65) {\n",
    "                System.out.println(\"Recommended : Senior Discount.\");\n",
    "            } else if (studentStatus.equals(\"yes\")) {\n",
    "                System.out.println(\"Recommended: Student Discount.\");\n",
    "            } else if (age >= 18 && income >= 20000) {\n",
    "                System.out.println(\"Recommended: Basic Membership.\");\n",
    "            }\n",
    "        } else {\n",
    "            System.out.println(\"You do not qualify for any memberships or discounts.\");\n",
    "        }\n",
    "        scanner.close();\n",
    "    }\n",
    "}\n",
    "PrimeClubMembership.main(null)"
   ]
  }
 ],
 "metadata": {
  "kernelspec": {
   "display_name": "Java",
   "language": "java",
   "name": "java"
  },
  "language_info": {
   "codemirror_mode": "java",
   "file_extension": ".jshell",
   "mimetype": "text/x-java-source",
   "name": "Java",
   "pygments_lexer": "java",
   "version": "17.0.12+7"
  }
 },
 "nbformat": 4,
 "nbformat_minor": 2
}
