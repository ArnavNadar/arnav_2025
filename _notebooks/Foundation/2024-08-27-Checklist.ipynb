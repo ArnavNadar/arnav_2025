{
 "cells": [
  {
   "cell_type": "markdown",
   "metadata": {},
   "source": [
    "---\n",
    "layout: post\n",
    "title: Sprint Check\n",
    "comments: true\n",
    "---"
   ]
  },
  {
   "cell_type": "markdown",
   "metadata": {},
   "source": [
    "[site]({{site.baseurl}}/about)"
   ]
  },
  {
   "cell_type": "markdown",
   "metadata": {},
   "source": [
    "- [x] Laptop Verification or Cloud Workspace\n",
    "- [x] VSCode: live change code, commit, make, run localhost, test, debug\n",
    "  - Alter the readme\n",
    "  - Commit it\n",
    "  - Run `make`\n",
    "  - Show local host\n",
    "  - Show the change\n",
    "- [x] Show VSCode GitLens: verify commits, show change, comments, reset to commit, run on old commit\n",
    "  - Reset: git reset --hard COMMIT ID\n",
    "    - Just undo the readme change\n",
    "- [x] GitHub student_2025 repo: template create, push changes, verify id, review analytics\n",
    "  - Show the repo template you have\n",
    "- [] GitHub Pages Actions: review runs and verify runtime, receive demo\n",
    "  - Open failed runs (red x)\n",
    "  - Show the current one (green checkmark)\n",
    "  - Show the actions for that one"
   ]
  },
  {
   "cell_type": "markdown",
   "metadata": {},
   "source": [
    "- [x] We will register all users in Student database (Kasm users have already done this)\n",
    "- [x] You should make your own personal GitHub repo customized to your own name [https://github.com/nighthawkcoders/student_2025](https://github.com/nighthawkcoders/student_2025)\n",
    "    - [x] Two changes to match repo name are in _config.yml\n",
    "    - [x] One change to match repo name is in Makefile\n",
    "- [x] We will verify 1st code commits: for example modify home page, modify about page, make a new page capturing our memories from Tools Setup.\n",
    "- [x] [You should have verified tools] \n",
    "- [] Tools Play using JavaScript: **analytics integration**\n",
    "- [] [Hacks Tools & Equipment Play]\n",
    "- [] [Hacks GitHub Pages Playground]\n",
    "- [] [Hacks SASS Basics]\n",
    "- [] [Hacks Frontend]\n",
    "- [x] [Remember Forever]"
   ]
  }
 ],
 "metadata": {
  "language_info": {
   "name": "python"
  }
 },
 "nbformat": 4,
 "nbformat_minor": 2
}
