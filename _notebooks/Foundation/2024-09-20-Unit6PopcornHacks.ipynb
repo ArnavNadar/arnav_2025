{
 "cells": [
  {
   "cell_type": "markdown",
   "metadata": {},
   "source": [
    "# 6.1 Popcorn Hacks and Homework Hacks"
   ]
  },
  {
   "cell_type": "markdown",
   "metadata": {},
   "source": [
    "# 6.2 Popcorn Hacks and Homwork Hacks"
   ]
  },
  {
   "cell_type": "code",
   "execution_count": 9,
   "metadata": {},
   "outputs": [
    {
     "name": "stdout",
     "output_type": "stream",
     "text": [
      "Sum of even numbers: 12\n"
     ]
    }
   ],
   "source": [
    "public class ArrayEvenSum {\n",
    "    \n",
    "    // Method to calculate the sum of even numbers\n",
    "    public static int sumOfEvenNumbers(int[] arr) {\n",
    "        int sum = 0;\n",
    "        \n",
    "        for (int num : arr) {\n",
    "            if (num % 2 == 0) {  // Check if the number is even\n",
    "                sum += num;\n",
    "            }\n",
    "        }\n",
    "        \n",
    "        return sum;\n",
    "    }\n",
    "\n",
    "    // Main method for testing\n",
    "    public static void main(String[] args) {\n",
    "        int[] numbers = {1, 2, 3, 4, 5, 6};\n",
    "        System.out.println(\"Sum of even numbers: \" + sumOfEvenNumbers(numbers));  // Output will be 12\n",
    "    }\n",
    "}\n",
    "\n",
    "ArrayEvenSum.main(null)"
   ]
  },
  {
   "cell_type": "code",
   "execution_count": 10,
   "metadata": {},
   "outputs": [
    {
     "name": "stdout",
     "output_type": "stream",
     "text": [
      "3\n"
     ]
    }
   ],
   "source": [
    "public static int countOccurrences(int[] arr, int target) {\n",
    "   \n",
    "    int count=0;\n",
    "    \n",
    "   \n",
    "    for (int num : arr) {\n",
    "       \n",
    "        if (num == target) {\n",
    "            count++;  \n",
    "        }\n",
    "    }\n",
    "    \n",
    "    return count;\n",
    "}\n",
    "\n",
    "// Example usage:\n",
    "int[] arr = {3, 5, 3, 3, 7, 5};\n",
    "int target = 3;\n",
    "System.out.println(countOccurrences(arr, target));  // Output: 3"
   ]
  },
  {
   "cell_type": "markdown",
   "metadata": {},
   "source": [
    "## Homework Hack"
   ]
  },
  {
   "cell_type": "code",
   "execution_count": null,
   "metadata": {},
   "outputs": [],
   "source": [
    "import java.util.HashSet;\n",
    "import java.util.Set;\n",
    "import java.util.Arrays;\n",
    "\n",
    "public class SecondLargestFinder {\n",
    "\n",
    "    public static int findSecondLargest(int[] arr) {\n",
    "        // If the array has fewer than 2 elements, return -1\n",
    "        if (arr.length < 2) {\n",
    "            return -1;\n",
    "        }\n",
    "\n",
    "        // Use a set to keep track of unique elements\n",
    "        Set<Integer> uniqueElements = new HashSet<>();\n",
    "        for (int num : arr) {\n",
    "            uniqueElements.add(num);\n",
    "        }\n",
    "\n",
    "        // If there are fewer than 2 unique elements, return -1\n",
    "        if (uniqueElements.size() < 2) {\n",
    "            return -1;\n",
    "        }\n",
    "\n",
    "        // Convert the set to an array and sort it\n",
    "        Integer[] uniqueArray = uniqueElements.toArray(new Integer[0]);\n",
    "        Arrays.sort(uniqueArray);\n",
    "\n",
    "        // Return the second largest element\n",
    "        return uniqueArray[uniqueArray.length - 2];\n",
    "    }\n",
    "\n",
    "    // Example usage:\n",
    "    public static void main(String[] args) {\n",
    "        int[] arr1 = {3, 1, 4, 1, 5, 9, 2, 6};\n",
    "        System.out.println(findSecondLargest(arr1));  // Output: 6\n",
    "\n",
    "        int[] arr2 = {10, 10, 10, 10};\n",
    "        System.out.println(findSecondLargest(arr2));  // Output: -1\n",
    "    }\n",
    "}"
   ]
  },
  {
   "cell_type": "markdown",
   "metadata": {},
   "source": [
    "# 6.3 and 6.4 Popcorn and Homework Hacks"
   ]
  },
  {
   "cell_type": "code",
   "execution_count": 2,
   "metadata": {},
   "outputs": [
    {
     "name": "stdout",
     "output_type": "stream",
     "text": [
      "Java\n",
      "Python\n",
      "Markdown\n"
     ]
    }
   ],
   "source": [
    "public class PopcornHack {\n",
    "    public static void main(String[] args) {\n",
    "        \n",
    "        String[] languages = {\"Java\", \"Python\", \"Markdown\", };\n",
    "        \n",
    "       \n",
    "        for (String language : languages) {\n",
    "            System.out.println(language);  // Printing each language directly\n",
    "        }\n",
    "    }\n",
    "}\n",
    "\n",
    "PopcornHack.main(null)"
   ]
  },
  {
   "cell_type": "code",
   "execution_count": 3,
   "metadata": {},
   "outputs": [
    {
     "name": "stdout",
     "output_type": "stream",
     "text": [
      "Increase\n",
      "Increase\n",
      "Increase\n",
      "Increase\n",
      "Increase\n",
      "Maximum value: 12\n",
      "Minimum value: -1\n"
     ]
    }
   ],
   "source": [
    "public class MaxMinInArray {\n",
    "\n",
    "    public static void findMaxAndMin(int[] array) {\n",
    "\n",
    "       \n",
    "        if (array == null || array.length == 0) {\n",
    "            System.out.println(\"Array is empty\");\n",
    "            return;\n",
    "        }\n",
    "\n",
    "        int max = array[0];\n",
    "        int min = array[0];\n",
    "\n",
    "      \n",
    "        for (int i = 1; i < array.length; i++) {\n",
    "\n",
    "          \n",
    "            if (array[i] > array[i - 1]) {\n",
    "                System.out.println(\"Increase\");\n",
    "            }\n",
    "\n",
    "          \n",
    "            if (array[i] > max) {\n",
    "                max = array[i];  \n",
    "            }\n",
    "            if (array[i] < min) {\n",
    "                min = array[i];  \n",
    "            }\n",
    "        }\n",
    "\n",
    "       \n",
    "        System.out.println(\"Maximum value: \" + max);\n",
    "        System.out.println(\"Minimum value: \" + min);\n",
    "    }\n",
    "\n",
    "    public static void main(String[] args) {\n",
    "\n",
    "       \n",
    "        int[] array = {3, 5, 7, 2, 8, -1, 4, 0, 12};\n",
    "\n",
    "      \n",
    "        findMaxAndMin(array);\n",
    "    }\n",
    "}\n",
    "MaxMinInArray.main(null);"
   ]
  },
  {
   "cell_type": "markdown",
   "metadata": {},
   "source": [
    "## 6.3 Homework Hack "
   ]
  },
  {
   "cell_type": "code",
   "execution_count": 6,
   "metadata": {},
   "outputs": [
    {
     "name": "stdout",
     "output_type": "stream",
     "text": [
      "Enter a grade: Grades: [88, 93, 55, 68, 77, 89]\n",
      "Average grade: 78.33\n"
     ]
    }
   ],
   "source": [
    "import java.util.Arrays;\n",
    "import java.util.Scanner;\n",
    "\n",
    "public class GradeCalculator {\n",
    "    public static void main(String[] args) {\n",
    "        Integer[] grades = {78, 93, 67, 90, 59};\n",
    "\n",
    "        Scanner userGrades = new Scanner(System.in);\n",
    "        System.out.print(\"Enter a grade: \");\n",
    "        int grade = Integer.parseInt(userGrades.nextLine());\n",
    "\n",
    "        \n",
    "        grades = Arrays.copyOf(grades, grades.length + 1);\n",
    "        grades[grades.length - 1] = grade;\n",
    "        \n",
    "       \n",
    "        System.out.println(\"Grades: \" + Arrays.toString(grades));\n",
    "\n",
    "       \n",
    "        int sum = 0;\n",
    "        for (int g : grades) {\n",
    "            sum += g;\n",
    "        }\n",
    "\n",
    "        \n",
    "        double average = sum / (double) grades.length;\n",
    "\n",
    "       \n",
    "        System.out.printf(\"Average grade: %.2f\\n\", average);\n",
    "    }\n",
    "}\n",
    "\n",
    "GradeCalculator.main(null)"
   ]
  },
  {
   "cell_type": "markdown",
   "metadata": {},
   "source": [
    "## 6.4 Homework Hack pt 1"
   ]
  },
  {
   "cell_type": "code",
   "execution_count": 7,
   "metadata": {},
   "outputs": [
    {
     "name": "stdout",
     "output_type": "stream",
     "text": [
      "5\n",
      "4\n",
      "3\n",
      "2\n",
      "1\n",
      "0\n"
     ]
    }
   ],
   "source": [
    "Integer[] myArray = {0, 1, 2, 3, 4, 5};\n",
    "\n",
    "// Start from the last index of the array and move backwards\n",
    "for (int i = myArray.length - 1; i >= 0; i--) {\n",
    "    // Output each object\n",
    "    System.out.println(myArray[i]);\n",
    "}"
   ]
  },
  {
   "cell_type": "markdown",
   "metadata": {},
   "source": [
    "## 6.4 Homework Hack pt 2"
   ]
  },
  {
   "cell_type": "code",
   "execution_count": 8,
   "metadata": {},
   "outputs": [
    {
     "name": "stdout",
     "output_type": "stream",
     "text": [
      "alpha gamma "
     ]
    }
   ],
   "source": [
    "public class WordShifter {  \n",
    "    public static void main(String[] args) {\n",
    "        String[] words = {\"alpha\", \"beta\", \"gamma\", \"delta\"};\n",
    "        \n",
    "        // Loop through the array and print every other word\n",
    "        for (int i = 0; i < words.length; i += 2) {  // Increment by 2 to skip every other word\n",
    "            System.out.print(words[i] + \" \");\n",
    "        }\n",
    "    }\n",
    "}\n",
    "\n",
    "WordShifter.main(null);"
   ]
  }
 ],
 "metadata": {
  "kernelspec": {
   "display_name": "Java",
   "language": "java",
   "name": "java"
  },
  "language_info": {
   "codemirror_mode": "java",
   "file_extension": ".jshell",
   "mimetype": "text/x-java-source",
   "name": "java",
   "pygments_lexer": "java",
   "version": "17.0.12+7"
  }
 },
 "nbformat": 4,
 "nbformat_minor": 2
}
