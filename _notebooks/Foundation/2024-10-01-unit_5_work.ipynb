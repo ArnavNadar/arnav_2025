{
 "cells": [
  {
   "cell_type": "markdown",
   "metadata": {},
   "source": [
    "### Popcorn Hack 1.\n",
    "\n",
    "Write a Student class. \n",
    "    - Each student has a name \n",
    "    - Each student has a score (out of 100)\n",
    "    - A student passes if their score is above 70\n",
    "\n",
    "Check which student passes (write a class header, instance variables, constructors, and methods)"
   ]
  },
  {
   "cell_type": "code",
   "execution_count": 40,
   "metadata": {
    "vscode": {
     "languageId": "java"
    }
   },
   "outputs": [
    {
     "name": "stdout",
     "output_type": "stream",
     "text": [
      "John passed!\n",
      "Alice did not pass.\n"
     ]
    }
   ],
   "source": [
    "public class Student {\n",
    "    private String name;\n",
    "    private int score;\n",
    "    \n",
    "    // Default constructor\n",
    "    public Student() {\n",
    "        name = \"\";\n",
    "        score = 0;\n",
    "    }\n",
    "\n",
    "    // Overloaded constructor\n",
    "    public Student(String n, int s) {\n",
    "        name = n;\n",
    "        score = s;\n",
    "    }\n",
    "\n",
    "    // Accessor Methods\n",
    "    public String getName() {\n",
    "        return name;\n",
    "    }\n",
    "\n",
    "    public int getScore() {\n",
    "        return score;\n",
    "    }\n",
    "\n",
    "    // Mutator Methods\n",
    "    public void setName(String n) {\n",
    "        name = n;\n",
    "    }\n",
    "\n",
    "    public void setScore(int s) {\n",
    "        if (s < 0 || s > 100) {\n",
    "            score = 0; // default value\n",
    "        } else {\n",
    "            score = s;\n",
    "        }\n",
    "    }\n",
    "\n",
    "    public boolean pass() {\n",
    "        return (score >= 70);\n",
    "    }\n",
    "\n",
    "    public static void testStudents() {\n",
    "\n",
    "        Student student1 = new Student(\"John\", 75);\n",
    "        Student student2 = new Student(\"Alice\", 65);\n",
    "        \n",
    "        if (student1.pass()) {\n",
    "            System.out.println(student1.getName() + \" passed!\");\n",
    "        } else {\n",
    "            System.out.println(student1.getName() + \" did not pass.\");\n",
    "        }\n",
    "\n",
    "        if (student2.pass()) {\n",
    "            System.out.println(student2.getName() + \" passed!\");\n",
    "        } else {\n",
    "            System.out.println(student2.getName() + \" did not pass.\");\n",
    "        }\n",
    "    }\n",
    "}\n",
    "]\n",
    "Student.testStudents();\n",
    "\n"
   ]
  },
  {
   "cell_type": "markdown",
   "metadata": {},
   "source": [
    "### Your turn (yes this is a popcorn hack)\n",
    "\n",
    "- Make your own class with an integer variable\n",
    "- Make a constructor for that\n",
    "- Create an object and print the variable"
   ]
  },
  {
   "cell_type": "code",
   "execution_count": 22,
   "metadata": {
    "vscode": {
     "languageId": "java"
    }
   },
   "outputs": [
    {
     "name": "stdout",
     "output_type": "stream",
     "text": [
      "Bashray Beddy has eaten 15000 curry in his lifetime!\n"
     ]
    }
   ],
   "source": [
    "class Indian{\n",
    "    int curryeaten;\n",
    "    String name;\n",
    "\n",
    "    public Indian() {\n",
    "        curryeaten = 15000;\n",
    "        name = \"Bashray Beddy\";\n",
    "    }\n",
    "}\n",
    "\n",
    "Indian Bashray = new Indian();\n",
    "System.out.println(Bashray.name + \" has eaten \" + Bashray.curryeaten + \" curry in his lifetime!\");"
   ]
  },
  {
   "cell_type": "markdown",
   "metadata": {},
   "source": [
    "### Your turn (aren't you having fun!!!)\n",
    "\n",
    "Using the code you wrote before (you did do the previous popcorn hack... right?), complete the following\n",
    "- Make a no-arg constructor\n",
    "- Make a parameterized constructor\n",
    "- \"Make\" a default constructor\n",
    "\n",
    "Please seperate all of those three into different code cells.\n",
    "\n",
    "Also, you don't actually have to use your previous code. I just thought it would be a good template."
   ]
  },
  {
   "cell_type": "code",
   "execution_count": 23,
   "metadata": {
    "vscode": {
     "languageId": "java"
    }
   },
   "outputs": [
    {
     "name": "stdout",
     "output_type": "stream",
     "text": [
      "Bashray Beddy has eaten 15000 curry in his lifetime!\n"
     ]
    }
   ],
   "source": [
    "class Indian {\n",
    "    String name;\n",
    "    int curryeaten;\n",
    "\n",
    "    public Indian() {\n",
    "        name = \"Bashray Beddy\";\n",
    "        curryeaten = 15000;\n",
    "    }\n",
    "}\n",
    "\n",
    "Indian Bashray = new Indian();\n",
    "System.out.println(Bashray.name + \" has eaten \" + Bashray.curryeaten + \" curry in his lifetime!\");"
   ]
  },
  {
   "cell_type": "code",
   "execution_count": 24,
   "metadata": {
    "vscode": {
     "languageId": "java"
    }
   },
   "outputs": [
    {
     "name": "stdout",
     "output_type": "stream",
     "text": [
      "Bashray Beddy has eaten 15000 curry in his lifetime!\n"
     ]
    },
    {
     "name": "stdout",
     "output_type": "stream",
     "text": [
      "Bashray Beddy is 16 years old.\n"
     ]
    }
   ],
   "source": [
    "class Indian{\n",
    "    String name;\n",
    "    int curryeaten;\n",
    "    int age;\n",
    "\n",
    "    public Indian(int age) {\n",
    "        name = \"Bashray Beddy\";\n",
    "        curryeaten = 15000;\n",
    "        this.age = age;\n",
    "    }\n",
    "}\n",
    "\n",
    "Indian Bashray = new Indian(16);\n",
    "System.out.println(Bashray.name + \" has eaten \" + Bashray.curryeaten + \" curry in his lifetime!\");\n",
    "System.out.println(Bashray.name + \" is \" + Bashray.age + \" years old.\");"
   ]
  },
  {
   "cell_type": "code",
   "execution_count": 33,
   "metadata": {
    "vscode": {
     "languageId": "java"
    }
   },
   "outputs": [
    {
     "name": "stdout",
     "output_type": "stream",
     "text": [
      "Random Indian has eaten 10 curry in his lifetime!\n"
     ]
    },
    {
     "name": "stdout",
     "output_type": "stream",
     "text": [
      "Bashray Beddy is 16 years old.\n"
     ]
    }
   ],
   "source": [
    "class Indian{\n",
    "    String name;\n",
    "    int curryeaten;\n",
    "    int age;\n",
    "\n",
    "\n",
    "    public Indian() {\n",
    "        name = \"Random Indian\";\n",
    "        curryeaten = 10;\n",
    "        this.age = 18;\n",
    "    }\n",
    "\n",
    "    public Indian(int age, int curryeaten, String name){\n",
    "        this.name = name;\n",
    "        this.curryeaten = curryeaten;\n",
    "        this.age = age;\n",
    "    }\n",
    "}\n",
    "\n",
    "Indian Random = new Indian();\n",
    "System.out.println(Random.name + \" has eaten \" + Random.curryeaten + \" curry in his lifetime!\");\n",
    "Indian Bashray = new Indian(16, 15000, \"Bashray Beddy\");\n",
    "System.out.println(Bashray.name + \" is \" + Bashray.age + \" years old.\");"
   ]
  },
  {
   "cell_type": "markdown",
   "metadata": {},
   "source": [
    "### Your turn\n",
    "\n",
    "- Make a overloaded constructor"
   ]
  },
  {
   "cell_type": "code",
   "execution_count": null,
   "metadata": {
    "vscode": {
     "languageId": "java"
    }
   },
   "outputs": [],
   "source": [
    "public class Popcorn {\n",
    "    private int value;\n",
    "    private String flavor;\n",
    "\n",
    "    public Popcorn() {\n",
    "        this.value = 0;\n",
    "        this.flavor = \"Plain\";\n",
    "        System.out.println(\"No-arg constructor called. Value set to: \" + this.value + \", Flavor set to: \" + this.flavor);\n",
    "    }\n",
    "\n",
    "    public Popcorn(int value) {\n",
    "        this.value = value;\n",
    "        this.flavor = \"Butter\";\n",
    "        System.out.println(\"Constructor with 1 parameter called. Value set to: \" + this.value + \", Flavor set to: \" + this.flavor);\n",
    "    }\n",
    "\n",
    "    public Popcorn(int value, String flavor) {\n",
    "        this.value = value;\n",
    "        this.flavor = flavor;\n",
    "        System.out.println(\"Constructor with 2 parameters called. Value set to: \" + this.value + \", Flavor set to: \" + this.flavor);\n",
    "    }\n",
    "\n",
    "    public static void main(String[] args) {\n",
    "\n",
    "        Popcorn obj1 = new Popcorn();\n",
    "        \n",
    "        Popcorn obj2 = new Popcorn(5);\n",
    "        \n",
    "        Popcorn obj3 = new Popcorn(10, \"Caramel\");\n",
    "    }\n",
    "}\n",
    "\n",
    "Popcorn.main(null);\n"
   ]
  },
  {
   "cell_type": "markdown",
   "metadata": {},
   "source": [
    "## Popcorn Hack\n",
    "Gru is preparing for his big mission to steal the moon, and he needs to assign his minions various tasks based on their skills. Create a new getter method called ``skillLevel`` and print out the Minion's ``skillLevel``Minion class with the attributes ``name, task, and skillLevel.`` Implement some getter accessor methods, and then create a ``Minion`` object to retrieve its values."
   ]
  },
  {
   "cell_type": "code",
   "execution_count": 41,
   "metadata": {
    "vscode": {
     "languageId": "java"
    }
   },
   "outputs": [
    {
     "name": "stdout",
     "output_type": "stream",
     "text": [
      "Stuart\n",
      "Developing propulsion system\n"
     ]
    },
    {
     "name": "stdout",
     "output_type": "stream",
     "text": [
      "Skill Level: 69420\n"
     ]
    }
   ],
   "source": [
    "public class Minion {\n",
    "    private String name;\n",
    "    private String task;\n",
    "    \n",
    "    // Create  skillLevel instance variable\n",
    "    private int skillLevel;\n",
    "\n",
    "    public Minion(String n, String t, int skill)\n",
    "    {\n",
    "        name = n;\n",
    "        task = t;\n",
    "        skillLevel = skill;\n",
    "    }\n",
    "    // Getter Methods\n",
    "    public String getName()\n",
    "    {\n",
    "        return name;\n",
    "    }\n",
    "    public String getTask()\n",
    "    {\n",
    "        return task;\n",
    "    }\n",
    "    public int getSkillLevel() {\n",
    "        return skillLevel;\n",
    "    }\n",
    "\n",
    "    // Add getter method here\n",
    "}\n",
    "Minion Stuart = new Minion(\"Stuart\", \"Developing propulsion system\", 69420);\n",
    "System.out.println(Stuart.getName());\n",
    "System.out.println(Stuart.getTask());\n",
    "// Add print statement to get skillLevel\n",
    "System.out.println(\"Skill Level: \" + Stuart.getSkillLevel());\n",
    "\n"
   ]
  },
  {
   "cell_type": "markdown",
   "metadata": {},
   "source": [
    "## Popcorn Hack\n",
    "\n",
    "Return all the instance variables in ``Minion`` so that we can directly print the object values of the minion Kevin."
   ]
  },
  {
   "cell_type": "code",
   "execution_count": 42,
   "metadata": {
    "vscode": {
     "languageId": "java"
    }
   },
   "outputs": [
    {
     "name": "stdout",
     "output_type": "stream",
     "text": [
      "Height: 4.1\n",
      "Name: Kevin\n",
      "Hair: Sprout-Cut\n",
      "Eyes: 2\n"
     ]
    }
   ],
   "source": [
    "public class Minion\n",
    "{\n",
    "    // Start by defining instance variables that you'll want to access later via the accessor methods\n",
    "    private double height;\n",
    "    private String name;\n",
    "    private String hair;\n",
    "    private int eyes;\n",
    "\n",
    "    // Default Constructor\n",
    "    //String n, int c\n",
    "    public Minion()\n",
    "    {\n",
    "        height = 3.7;\n",
    "        name = \"Bob\";\n",
    "        hair = \"None\";\n",
    "        eyes = 2;\n",
    "    }\n",
    "\n",
    "    // Overloaded Constructor\n",
    "    public Minion(double h, String n, String hr, int e)\n",
    "    {\n",
    "        height = h;\n",
    "        name = n;\n",
    "        hair = hr;\n",
    "        eyes = e;\n",
    "    }\n",
    "    // Accessor Methods!\n",
    "    public String toString()\n",
    "    {\n",
    "        return (\"Height: \" + height + \"\\nName: \" + name + \"\\nHair: \" + hair + \"\\nEyes: \" + eyes);\n",
    "    }\n",
    "}\n",
    "// Create minion object Kevin\n",
    "Minion kevin = new Minion(4.10,\"Kevin\",\"Sprout-Cut\",2);\n",
    "\n",
    "// Print Kevin Object\n",
    "System.out.println(kevin.toString());"
   ]
  },
  {
   "cell_type": "markdown",
   "metadata": {},
   "source": [
    "### Your turn!\n",
    "\n",
    "- Make your own class with your own getter method"
   ]
  },
  {
   "cell_type": "code",
   "execution_count": 43,
   "metadata": {
    "vscode": {
     "languageId": "java"
    }
   },
   "outputs": [
    {
     "name": "stdout",
     "output_type": "stream",
     "text": [
      "Random Indian has eaten 10 curry in his lifetime!\n",
      "Bashray Beddy is 16 years old.\n"
     ]
    }
   ],
   "source": [
    "class Indian {\n",
    "    String name;\n",
    "    int curryeaten;\n",
    "    int age;\n",
    "\n",
    "    // Default constructor\n",
    "    public Indian() {\n",
    "        name = \"Random Indian\";\n",
    "        curryeaten = 10;\n",
    "        age = 18;\n",
    "    }\n",
    "\n",
    "    // Parameterized constructor\n",
    "    public Indian(int age, int curryeaten, String name) {\n",
    "        this.name = name;\n",
    "        this.curryeaten = curryeaten;\n",
    "        this.age = age;\n",
    "    }\n",
    "\n",
    "    // Getter methods\n",
    "    public String getName() {\n",
    "        return name;\n",
    "    }\n",
    "\n",
    "    public int getCurryEaten() {\n",
    "        return curryeaten;\n",
    "    }\n",
    "\n",
    "    public int getAge() {\n",
    "        return age;\n",
    "    }\n",
    "}\n",
    "\n",
    "public class Main {\n",
    "    public static void main(String[] args) {\n",
    "        // Using default constructor\n",
    "        Indian random = new Indian();\n",
    "        System.out.println(random.getName() + \" has eaten \" + random.getCurryEaten() + \" curry in his lifetime!\");\n",
    "\n",
    "        // Using parameterized constructor\n",
    "        Indian bashray = new Indian(16, 15000, \"Bashray Beddy\");\n",
    "        System.out.println(bashray.getName() + \" is \" + bashray.getAge() + \" years old.\");\n",
    "    }\n",
    "}\n",
    "\n",
    "Main.main(null);\n"
   ]
  },
  {
   "cell_type": "markdown",
   "metadata": {},
   "source": [
    "### Your turn!\n",
    "\n",
    "- Make your own class with your own **setter** method"
   ]
  },
  {
   "cell_type": "code",
   "execution_count": 45,
   "metadata": {
    "vscode": {
     "languageId": "java"
    }
   },
   "outputs": [
    {
     "name": "stdout",
     "output_type": "stream",
     "text": [
      "Random Indian has eaten 10 curry in his lifetime!\n",
      "Bashray Beddy has eaten 200 curry in his lifetime and is 16 years old.\n"
     ]
    }
   ],
   "source": [
    "class Indian {\n",
    "    String name;\n",
    "    int curryeaten;\n",
    "    int age;\n",
    "\n",
    "    // Default constructor\n",
    "    public Indian() {\n",
    "        name = \"Random Indian\";\n",
    "        curryeaten = 10;\n",
    "        age = 18;\n",
    "    }\n",
    "\n",
    "    // Parameterized constructor\n",
    "    public Indian(int age, int curryeaten, String name) {\n",
    "        this.name = name;\n",
    "        this.curryeaten = curryeaten;\n",
    "        this.age = age;\n",
    "    }\n",
    "\n",
    "    // Setter methods\n",
    "    public void setName(String name) {\n",
    "        this.name = name;\n",
    "    }\n",
    "\n",
    "    public void setCurryEaten(int curryeaten) {\n",
    "        this.curryeaten = curryeaten;\n",
    "    }\n",
    "\n",
    "    public void setAge(int age) {\n",
    "        this.age = age;\n",
    "    }\n",
    "\n",
    "    // Getter methods to retrieve values\n",
    "    public String getName() {\n",
    "        return name;\n",
    "    }\n",
    "\n",
    "    public int getCurryEaten() {\n",
    "        return curryeaten;\n",
    "    }\n",
    "\n",
    "    public int getAge() {\n",
    "        return age;\n",
    "    }\n",
    "}\n",
    "\n",
    "public class Main {\n",
    "    public static void main(String[] args) {\n",
    "        // Using default constructor\n",
    "        Indian random = new Indian();\n",
    "        System.out.println(random.getName() + \" has eaten \" + random.getCurryEaten() + \" curry in his lifetime!\");\n",
    "\n",
    "        // Using setter methods to change values\n",
    "        random.setName(\"Bashray Beddy\");\n",
    "        random.setCurryEaten(200);\n",
    "        random.setAge(16);\n",
    "\n",
    "        // Printing the updated values\n",
    "        System.out.println(random.getName() + \" has eaten \" + random.getCurryEaten() + \" curry in his lifetime and is \" + random.getAge() + \" years old.\");\n",
    "    }\n",
    "}\n",
    "\n",
    "Main.main(null);\n"
   ]
  },
  {
   "cell_type": "markdown",
   "metadata": {},
   "source": [
    "### Your turn!\n",
    "\n",
    "Make your own class with:\n",
    "- A constructor\n",
    "- A getter\n",
    "- A setter\n",
    "\n",
    "Create an object and interact with it! Make sure you use both your setter and getter methods at least once."
   ]
  },
  {
   "cell_type": "code",
   "execution_count": 46,
   "metadata": {
    "vscode": {
     "languageId": "java"
    }
   },
   "outputs": [
    {
     "name": "stdout",
     "output_type": "stream",
     "text": [
      "Name: Bashray Beddy\n",
      "Age: 16\n",
      "Curry eaten: 50.5 kg\n",
      "\n",
      "Updated Name: Bashray Beddy\n",
      "Updated Age: 16\n",
      "Updated Curry eaten: 100.0 kg\n"
     ]
    }
   ],
   "source": [
    "class Indian {\n",
    "    private String name;\n",
    "    private int age;\n",
    "    private double curryeaten;\n",
    "\n",
    "    // Constructor to initialize the object\n",
    "    public Indian(String name, int age, double curryeaten) {\n",
    "        this.name = name;\n",
    "        this.age = age;\n",
    "        this.curryeaten = curryeaten;\n",
    "    }\n",
    "\n",
    "    // Getter methods\n",
    "    public String getName() {\n",
    "        return name;\n",
    "    }\n",
    "\n",
    "    public int getAge() {\n",
    "        return age;\n",
    "    }\n",
    "\n",
    "    public double getCurryEaten() {\n",
    "        return curryeaten;\n",
    "    }\n",
    "\n",
    "    // Setter methods\n",
    "    public void setName(String name) {\n",
    "        this.name = name;\n",
    "    }\n",
    "\n",
    "    public void setAge(int age) {\n",
    "        if (age > 0) {\n",
    "            this.age = age;\n",
    "        }\n",
    "    }\n",
    "\n",
    "    public void setCurryEaten(double curryeaten) {\n",
    "        if (curryeaten > 0) {\n",
    "            this.curryeaten = curryeaten;\n",
    "        }\n",
    "    }\n",
    "}\n",
    "\n",
    "public class Main {\n",
    "    public static void main(String[] args) {\n",
    "        // Create an Indian object using the constructor\n",
    "        Indian bashray = new Indian(\"Bashray Beddy\", 16, 50.5);\n",
    "        \n",
    "        // Use getter methods to print initial values\n",
    "        System.out.println(\"Name: \" + bashray.getName());\n",
    "        System.out.println(\"Age: \" + bashray.getAge());\n",
    "        System.out.println(\"Curry eaten: \" + bashray.getCurryEaten() + \" kg\");\n",
    "\n",
    "        // Use setter methods to change values\n",
    "        bashray.setName(\"Bashray Beddy\");\n",
    "        bashray.setAge(16);\n",
    "        bashray.setCurryEaten(100.0);\n",
    "\n",
    "        // Use getter methods again to show updated values\n",
    "        System.out.println(\"\\nUpdated Name: \" + bashray.getName());\n",
    "        System.out.println(\"Updated Age: \" + bashray.getAge());\n",
    "        System.out.println(\"Updated Curry eaten: \" + bashray.getCurryEaten() + \" kg\");\n",
    "    }\n",
    "}\n",
    "\n",
    "Main.main(null);\n"
   ]
  },
  {
   "cell_type": "markdown",
   "metadata": {},
   "source": [
    "## Popcorn hack:\n",
    "- Add another static method to the Villain class\n",
    "- Keep it minion themed and fun!"
   ]
  },
  {
   "cell_type": "code",
   "execution_count": 47,
   "metadata": {
    "vscode": {
     "languageId": "java"
    }
   },
   "outputs": [
    {
     "name": "stdout",
     "output_type": "stream",
     "text": [
      "=== Adding Minions ===\n",
      "Kevin has been added to Gru's army.\n",
      "Stuart has been added to Gru's army.\n",
      "Bob has been added to Gru's army.\n",
      "Henchman 1 has been added to Vector's army.\n",
      "\n",
      "=== Villain Descriptions ===\n",
      "Gru is planning to: steal the moon!\n",
      "They have 3 minions.\n",
      "\n",
      "Vector is planning to: take over the world with magnitude and direction!\n",
      "They have 1 minions.\n",
      "\n",
      "=== Total Villain Count ===\n",
      "There are 2 villains in the world.\n",
      "=== Total Minion Count ===\n",
      "There are 4 minions serving these villains!\n"
     ]
    }
   ],
   "source": [
    "import java.util.ArrayList;\n",
    "import java.util.List;\n",
    "\n",
    "public class Villain {\n",
    "    // Instance variables\n",
    "    public String name;\n",
    "    public String evilPlan;\n",
    "    public List<String> minions;\n",
    "    public static int villainCount = 0;\n",
    "    public static int totalMinionCount = 0; // New static variable to count minions\n",
    "\n",
    "    // Constructor for name, plan, and minions\n",
    "    public Villain(String name, String evilPlan) {\n",
    "        this.name = name;\n",
    "        this.evilPlan = evilPlan;\n",
    "        this.minions = new ArrayList<>();\n",
    "        villainCount++;\n",
    "    }\n",
    "\n",
    "    // Instance method to add a minion\n",
    "    public void addMinion(String minion) {\n",
    "        minions.add(minion);\n",
    "        totalMinionCount++;  // Increment total minion count\n",
    "        System.out.println(minion + \" has been added to \" + name + \"'s army.\");\n",
    "    }\n",
    "\n",
    "    // Instance method to describe the villain\n",
    "    public void describeVillain() {\n",
    "        System.out.println(name + \" is planning to: \" + evilPlan);\n",
    "        System.out.println(\"They have \" + minions.size() + \" minions.\");\n",
    "    }\n",
    "\n",
    "    // Static method to get the total count of villains\n",
    "    public static int getVillainCount() {\n",
    "        return villainCount;\n",
    "    }\n",
    "\n",
    "    // added Static method\n",
    "    public static int getTotalMinionCount() {\n",
    "        return totalMinionCount;\n",
    "    }\n",
    "}\n",
    "\n",
    "public class Main {\n",
    "    public static void main(String[] args) {\n",
    "        Villain.villainCount = 0;\n",
    "        Villain.totalMinionCount = 0;  // Initialize total minion count\n",
    "\n",
    "        // Create new villains\n",
    "        Villain gru = new Villain(\"Gru\", \"steal the moon!\");\n",
    "        Villain vector = new Villain(\"Vector\", \"take over the world with magnitude and direction!\");\n",
    "\n",
    "        System.out.println(\"=== Adding Minions ===\");\n",
    "        // Create some minions\n",
    "        gru.addMinion(\"Kevin\");\n",
    "        gru.addMinion(\"Stuart\");\n",
    "        gru.addMinion(\"Bob\");\n",
    "\n",
    "        // Create some minions for Vector\n",
    "        vector.addMinion(\"Henchman 1\");\n",
    "\n",
    "        System.out.println();\n",
    "\n",
    "        // Describe the villains and their plans\n",
    "        System.out.println(\"=== Villain Descriptions ===\");\n",
    "        gru.describeVillain();\n",
    "        System.out.println();\n",
    "        vector.describeVillain();\n",
    "        System.out.println();\n",
    "\n",
    "        // Get the total count of villains\n",
    "        System.out.println(\"=== Total Villain Count ===\");\n",
    "        System.out.println(\"There are \" + Villain.getVillainCount() + \" villains in the world.\");\n",
    "        \n",
    "        // Get the total count of minions\n",
    "        System.out.println(\"=== Total Minion Count ===\");\n",
    "        System.out.println(\"There are \" + Villain.getTotalMinionCount() + \" minions serving these villains!\");\n",
    "    }\n",
    "}\n",
    "\n",
    "Main.main(null);\n"
   ]
  },
  {
   "cell_type": "markdown",
   "metadata": {},
   "source": [
    "## Popcorn hack:\n",
    "Dr. Nefario is busy assigning work for the minions, and he needs your help to organize his group. Your mission is to write and implement a Java classes for each minion which includes their name, gadgets, personality, and more. Get ready to make Dr. Nefario's life easier and keep the minions organized!"
   ]
  },
  {
   "cell_type": "code",
   "execution_count": 48,
   "metadata": {
    "vscode": {
     "languageId": "java"
    }
   },
   "outputs": [
    {
     "name": "stdout",
     "output_type": "stream",
     "text": [
      "Freeze Ray added to Kevin's gadgets.\n",
      "Fart Gun added to Stuart's gadgets.\n",
      "Banana Launcher added to Bob's gadgets.\n",
      "Guard the lair assigned to Kevin.\n",
      "Test new gadgets assigned to Stuart.\n",
      "Fetch bananas assigned to Bob.\n",
      "\n",
      "Minion Kevin with a brave personality.\n",
      "Gadgets: Freeze Ray\n",
      "Tasks: Guard the lair\n",
      "\n",
      "Minion Stuart with a playful personality.\n",
      "Gadgets: Fart Gun\n",
      "Tasks: Test new gadgets\n",
      "\n",
      "Minion Bob with a adorable personality.\n",
      "Gadgets: Banana Launcher\n",
      "Tasks: Fetch bananas\n"
     ]
    }
   ],
   "source": [
    "import java.util.ArrayList;\n",
    "import java.util.List;\n",
    "\n",
    "public class Minion {\n",
    "    // Instance variables\n",
    "    private String name;\n",
    "    private String personality;\n",
    "    private List<String> gadgets;\n",
    "    private List<String> tasks;\n",
    "\n",
    "    // Constructor for creating a minion\n",
    "    public Minion(String name, String personality) {\n",
    "        this.name = name;\n",
    "        this.personality = personality;\n",
    "        this.gadgets = new ArrayList<>();\n",
    "        this.tasks = new ArrayList<>();\n",
    "    }\n",
    "\n",
    "    // Method to add gadgets to the minion\n",
    "    public void addGadget(String gadget) {\n",
    "        gadgets.add(gadget);\n",
    "        System.out.println(gadget + \" added to \" + name + \"'s gadgets.\");\n",
    "    }\n",
    "\n",
    "    // Method to assign a task to the minion\n",
    "    public void assignTask(String task) {\n",
    "        tasks.add(task);\n",
    "        System.out.println(task + \" assigned to \" + name + \".\");\n",
    "    }\n",
    "\n",
    "    // Method to describe the minion's gadgets and tasks\n",
    "    public void describeMinion() {\n",
    "        System.out.println(\"Minion \" + name + \" with a \" + personality + \" personality.\");\n",
    "        System.out.println(\"Gadgets: \" + (gadgets.isEmpty() ? \"None\" : String.join(\", \", gadgets)));\n",
    "        System.out.println(\"Tasks: \" + (tasks.isEmpty() ? \"None\" : String.join(\", \", tasks)));\n",
    "    }\n",
    "\n",
    "    // Getter for minion's name\n",
    "    public String getName() {\n",
    "        return name;\n",
    "    }\n",
    "\n",
    "    // Getter for personality\n",
    "    public String getPersonality() {\n",
    "        return personality;\n",
    "    }\n",
    "}\n",
    "\n",
    "public class Main {\n",
    "    public static void main(String[] args) {\n",
    "        // Create some minions\n",
    "        Minion kevin = new Minion(\"Kevin\", \"brave\");\n",
    "        Minion stuart = new Minion(\"Stuart\", \"playful\");\n",
    "        Minion bob = new Minion(\"Bob\", \"adorable\");\n",
    "\n",
    "        // Add gadgets to minions\n",
    "        kevin.addGadget(\"Freeze Ray\");\n",
    "        stuart.addGadget(\"Fart Gun\");\n",
    "        bob.addGadget(\"Banana Launcher\");\n",
    "\n",
    "        // Assign tasks to minions\n",
    "        kevin.assignTask(\"Guard the lair\");\n",
    "        stuart.assignTask(\"Test new gadgets\");\n",
    "        bob.assignTask(\"Fetch bananas\");\n",
    "\n",
    "        System.out.println();\n",
    "\n",
    "        // Describe each minion\n",
    "        kevin.describeMinion();\n",
    "        System.out.println();\n",
    "        stuart.describeMinion();\n",
    "        System.out.println();\n",
    "        bob.describeMinion();\n",
    "    }\n",
    "}\n",
    "\n",
    "Main.main(null);\n"
   ]
  },
  {
   "cell_type": "markdown",
   "metadata": {},
   "source": [
    "## Popcorn hacks:\n",
    "- Look at some of the code I've commented out and try experimenting with gadgetsList if you want. Otherwise, just make a static variable that serves a purpose in the program."
   ]
  },
  {
   "cell_type": "code",
   "execution_count": 49,
   "metadata": {
    "vscode": {
     "languageId": "java"
    }
   },
   "outputs": [
    {
     "name": "stdout",
     "output_type": "stream",
     "text": [
      "Total gadgets made: 3\n",
      "List of all gadgets:\n",
      "- Freeze Ray\n",
      "- Banana Blaster\n",
      "- Lipstick Taser\n"
     ]
    }
   ],
   "source": [
    "import java.util.ArrayList;\n",
    "import java.util.List;\n",
    "\n",
    "public class Gadget {\n",
    "    // Static variable to track the total number of gadgets\n",
    "    public static int totalGadgets = 0;\n",
    "\n",
    "    // Instance variable to store the name of the gadget\n",
    "    private String gadgetName;\n",
    "\n",
    "    // Static list to track all gadgets\n",
    "    public static List<String> gadgetsList = new ArrayList<>();\n",
    "\n",
    "    // Constructor to set the gadget name and increment totalGadgets\n",
    "    public Gadget(String gadgetName) {\n",
    "        this.gadgetName = gadgetName;\n",
    "        totalGadgets++;  // Increment the total gadget count\n",
    "        gadgetsList.add(gadgetName);  // Add this gadget to the static list\n",
    "    }\n",
    "\n",
    "    // Static method to display all gadgets\n",
    "    public static void displayAllGadgets() {\n",
    "        System.out.println(\"List of all gadgets:\");\n",
    "        for (String gadget : gadgetsList) {\n",
    "            System.out.println(\"- \" + gadget);\n",
    "        }\n",
    "    }\n",
    "\n",
    "    // Instance method to get the gadget name\n",
    "    public String getGadgetName() {\n",
    "        return gadgetName;\n",
    "    }\n",
    "}\n",
    "\n",
    "// In the Main class:\n",
    "public class Main {\n",
    "    public static void main(String[] args) {\n",
    "        // Create three gadgets\n",
    "        Gadget g1 = new Gadget(\"Freeze Ray\");\n",
    "        Gadget g2 = new Gadget(\"Banana Blaster\");\n",
    "        Gadget g3 = new Gadget(\"Lipstick Taser\");\n",
    "\n",
    "        // Print the total number of gadgets\n",
    "        System.out.println(\"Total gadgets made: \" + Gadget.totalGadgets);\n",
    "\n",
    "        // Display all the gadgets created\n",
    "        Gadget.displayAllGadgets();\n",
    "    }\n",
    "}\n",
    "\n",
    "Main.main(null);\n"
   ]
  },
  {
   "cell_type": "markdown",
   "metadata": {},
   "source": [
    "## Popcorn hack:\n",
    "Dr. Nefario and Gru need to calculate the cost of their equipment to remain under the budget for this year! Add a second parameter to the Gadget constructor to include cost for Gadget instances, and make a static method to calculate the price of all gadgets that have been made so far."
   ]
  },
  {
   "cell_type": "code",
   "execution_count": 50,
   "metadata": {
    "vscode": {
     "languageId": "java"
    }
   },
   "outputs": [
    {
     "name": "stdout",
     "output_type": "stream",
     "text": [
      "Total gadgets made: 3\n",
      "Total cost of all gadgets: $449.48\n"
     ]
    }
   ],
   "source": [
    "import java.util.ArrayList;\n",
    "import java.util.List;\n",
    "\n",
    "public class Gadget {\n",
    "    // Static variable to track the total number of gadgets\n",
    "    public static int totalGadgets = 0;\n",
    "\n",
    "    // Instance variables to store the name and cost of the gadget\n",
    "    private String gadgetName;\n",
    "    private double gadgetCost;\n",
    "\n",
    "    // Static list to track all gadgets and their costs\n",
    "    public static List<Double> gadgetsCostList = new ArrayList<>();\n",
    "\n",
    "    // Constructor to set the gadget name and cost, increment totalGadgets\n",
    "    public Gadget(String gadgetName, double gadgetCost) {\n",
    "        this.gadgetName = gadgetName;\n",
    "        this.gadgetCost = gadgetCost;\n",
    "        totalGadgets++;  // Increment the total gadget count\n",
    "        gadgetsCostList.add(gadgetCost);  // Add this gadget's cost to the static list\n",
    "    }\n",
    "\n",
    "    // Static method to calculate the total cost of all gadgets\n",
    "    public static double calculateTotalCost() {\n",
    "        double totalCost = 0;\n",
    "        for (double cost : gadgetsCostList) {\n",
    "            totalCost += cost;\n",
    "        }\n",
    "        return totalCost;\n",
    "    }\n",
    "\n",
    "    // Instance method to get the gadget name\n",
    "    public String getGadgetName() {\n",
    "        return gadgetName;\n",
    "    }\n",
    "\n",
    "    // Instance method to get the gadget cost\n",
    "    public double getGadgetCost() {\n",
    "        return gadgetCost;\n",
    "    }\n",
    "}\n",
    "\n",
    "// In the Main class:\n",
    "public class Main {\n",
    "    public static void main(String[] args) {\n",
    "        // Create three gadgets with their respective costs\n",
    "        Gadget g1 = new Gadget(\"Freeze Ray\", 199.99);\n",
    "        Gadget g2 = new Gadget(\"Banana Blaster\", 99.49);\n",
    "        Gadget g3 = new Gadget(\"Lipstick Taser\", 150.00);\n",
    "\n",
    "        // Print the total number of gadgets\n",
    "        System.out.println(\"Total gadgets made: \" + Gadget.totalGadgets);\n",
    "\n",
    "        // Calculate and print the total cost of all gadgets\n",
    "        double totalCost = Gadget.calculateTotalCost();\n",
    "        System.out.println(\"Total cost of all gadgets: $\" + totalCost);\n",
    "    }\n",
    "}\n",
    "\n",
    "Main.main(null);\n"
   ]
  },
  {
   "cell_type": "markdown",
   "metadata": {},
   "source": [
    "## Popcorn Hacks\n",
    "The Minions are preparing for a big event where the tallest and fastest minion will get to assist Gru on his next mission! You’ve been called in as the official \"Minion Trainer\" to help compare the minions. The goal is to see which minion is more prepared for the mission."
   ]
  },
  {
   "cell_type": "code",
   "execution_count": 52,
   "metadata": {
    "vscode": {
     "languageId": "java"
    }
   },
   "outputs": [],
   "source": [
    "public class Minion {\n",
    "    private String speed;\n",
    "    private int height;\n",
    "\n",
    "    public void Minion(String speed, int height) {\n",
    "        this.speed = speed;\n",
    "        this.height = height;\n",
    "    }\n",
    "\n",
    "    public void setHeight(int height) {\n",
    "        this.height = height;  \n",
    "    }\n",
    "\n",
    "    public String getSpeed() {\n",
    "        return this.speed;  \n",
    "    }\n",
    "\n",
    "    public boolean isTallerThan(Minion otherMinion) {\n",
    "        return this.height > otherMinion.height;  \n",
    "    }\n",
    "\n",
    "    public static void main(String[] args) {\n",
    "        Minion minion1 = new Minion(\"fast\", 43);\n",
    "        Minion minion2 = new Minion(\"medium\", 28);\n",
    "\n",
    "        System.out.println(\"minion 1 speed: \" + minion1.getSpeed());\n",
    "        System.out.println(\"Is minion1 taller than minion2? \" + minion1.isTallerThan(minion2));\n",
    "\n",
    "        minion2.setHeight(50);\n",
    "        System.out.println(\"Is minion1 still taller than minion2? \" + minion1.isTallerThan(minion2));\n",
    "    }\n",
    "}"
   ]
  },
  {
   "cell_type": "markdown",
   "metadata": {},
   "source": [
    "1. What is the output of the statement *System.out.println(\"minion 1 speed: \" + minion1.speed())*? Explain why the `this` keyword is useful in the *getSpeed()* method.\n",
    " - The output is minion 1 speed: 43. The this keyword is useful in the getSpeed method because it uses the speed defined when initializing minion1.\n",
    "\n",
    "2. What does the *isTallerThan()* method compare?\n",
    " - It compares the height of the two minions based on the height of the minion passed into the function.\n",
    "\n",
    "3. What happens to the result of *System.out.println(\"Is minion1 taller than minion2? \" + minion1.isTallerThan(minion2))* after *minion2.setHeight(50)* is called?\n",
    " - The result changes to false because minion2 is redefined to be taller than minion1.\n",
    "\n",
    "\n",
    "Who should be selected for the mission?🤔\n",
    "Minion 2 should be selected because he is better (taller)."
   ]
  },
  {
   "cell_type": "markdown",
   "metadata": {},
   "source": [
    "# Homework Hacks Below"
   ]
  },
  {
   "cell_type": "code",
   "execution_count": 66,
   "metadata": {
    "vscode": {
     "languageId": "java"
    }
   },
   "outputs": [],
   "source": [
    "public class Minion {\n",
    "    private String color;\n",
    "    private String name;\n",
    "    private int energyLevels;\n",
    "    private String gadgets;\n",
    "    private String hair;\n",
    "    private int height;\n",
    "\n",
    "    public Minion() {\n",
    "        \n",
    "    }\n",
    "}"
   ]
  },
  {
   "cell_type": "code",
   "execution_count": 54,
   "metadata": {
    "vscode": {
     "languageId": "java"
    }
   },
   "outputs": [],
   "source": [
    "public class Minion {\n",
    "    private String color;\n",
    "    private String name;\n",
    "    private int energyLevels;\n",
    "    private String gadgets;\n",
    "    private String hair;\n",
    "    private int height;\n",
    "\n",
    "    public Minion() {\n",
    "        this.color = \"Yellow\";\n",
    "        this.name = \"Default Minion\";\n",
    "        this.energyLevels = 100;\n",
    "        this.gadgets = \"None\";\n",
    "        this.hair = \"Short\";\n",
    "        this.height = 150;\n",
    "    }\n",
    "}\n"
   ]
  },
  {
   "cell_type": "code",
   "execution_count": 64,
   "metadata": {
    "vscode": {
     "languageId": "java"
    }
   },
   "outputs": [],
   "source": [
    "public class Minion {\n",
    "    private String color;\n",
    "    private String name;\n",
    "    private int energyLevels;\n",
    "    private String gadgets;\n",
    "    private String hair;\n",
    "    private int height;\n",
    "\n",
    "    public Minion(String color, String name, int energyLevels, String gadgets, String hair, int height) {\n",
    "        this.color = color;\n",
    "        this.name = name;\n",
    "        this.energyLevels = energyLevels;\n",
    "        this.gadgets = gadgets;\n",
    "        this.hair = hair;\n",
    "        this.height = height;\n",
    "    }\n",
    "}"
   ]
  },
  {
   "cell_type": "code",
   "execution_count": 68,
   "metadata": {
    "vscode": {
     "languageId": "java"
    }
   },
   "outputs": [
    {
     "name": "stdout",
     "output_type": "stream",
     "text": [
      "Color: Yellow\n",
      "Name: Kevin\n",
      "Energy Levels: 90\n",
      "Gadgets: Banana Blaster\n",
      "Hair: Short\n",
      "Height: 150\n",
      "\n",
      "\n",
      "\n",
      "Color: Purple\n",
      "Name: Stuart\n",
      "Energy Levels: 80\n",
      "Gadgets: Freeze Ray\n",
      "Hair: Bald\n",
      "Height: 145\n",
      "\n",
      "\n",
      "\n",
      "Color: Yellow\n",
      "Name: Bob\n",
      "Energy Levels: 100\n",
      "Gadgets: Grappling Hook\n",
      "Hair: Curly\n",
      "Height: 160\n",
      "\n",
      "\n",
      "\n"
     ]
    }
   ],
   "source": [
    "public class Minion {\n",
    "    private String color;\n",
    "    private String name;\n",
    "    private int energyLevels;\n",
    "    private String gadgets;\n",
    "    private String hair;\n",
    "    private int height;\n",
    "\n",
    "    public Minion(String color, String name, int energyLevels, String gadgets, String hair, int height) {\n",
    "        this.color = color;\n",
    "        this.name = name;\n",
    "        this.energyLevels = energyLevels;\n",
    "        this.gadgets = gadgets;\n",
    "        this.hair = hair;\n",
    "        this.height = height;\n",
    "    }\n",
    "\n",
    "    public void printDetails() {\n",
    "        System.out.println(\"Color: \" + color);\n",
    "        System.out.println(\"Name: \" + name);\n",
    "        System.out.println(\"Energy Levels: \" + energyLevels);\n",
    "        System.out.println(\"Gadgets: \" + gadgets);\n",
    "        System.out.println(\"Hair: \" + hair);\n",
    "        System.out.println(\"Height: \" + height);\n",
    "        System.out.println(\"\\n\\n\");\n",
    "    }\n",
    "}\n",
    "\n",
    "public class Main {\n",
    "    public static void main(String[] args) {\n",
    "        Minion minion1 = new Minion(\"Yellow\", \"Kevin\", 90, \"Banana Blaster\", \"Short\", 150);\n",
    "        Minion minion2 = new Minion(\"Purple\", \"Stuart\", 80, \"Freeze Ray\", \"Bald\", 145);\n",
    "        Minion minion3 = new Minion(\"Yellow\", \"Bob\", 100, \"Grappling Hook\", \"Curly\", 160);\n",
    "        \n",
    "        minion1.printDetails();\n",
    "        minion2.printDetails();\n",
    "        minion3.printDetails();\n",
    "    }\n",
    "}\n",
    "Main.main(null);"
   ]
  },
  {
   "cell_type": "code",
   "execution_count": 61,
   "metadata": {
    "vscode": {
     "languageId": "java"
    }
   },
   "outputs": [
    {
     "name": "stdout",
     "output_type": "stream",
     "text": [
      "Average Energy Levels: 90.0\n"
     ]
    }
   ],
   "source": [
    "public class Minion {\n",
    "    private String color;\n",
    "    private String name;\n",
    "    private int energyLevels;\n",
    "    private String gadgets;\n",
    "    private String hair;\n",
    "    private int height;\n",
    "    public static int totalEnergyLevels = 0;\n",
    "    public static int minionCount = 0;\n",
    "\n",
    "    public Minion(String color, String name, int energyLevels, String gadgets, String hair, int height) {\n",
    "        this.color = color;\n",
    "        this.name = name;\n",
    "        this.energyLevels = energyLevels;\n",
    "        this.gadgets = gadgets;\n",
    "        this.hair = hair;\n",
    "        this.height = height;\n",
    "        totalEnergyLevels += energyLevels;\n",
    "        minionCount++;\n",
    "    }\n",
    "\n",
    "    public static double getAverageEnergyLevels() {\n",
    "        return (double) totalEnergyLevels / minionCount;\n",
    "    }\n",
    "}\n",
    "\n",
    "public class Main {\n",
    "    public static void main(String[] args) {\n",
    "        Minion minion1 = new Minion(\"Yellow\", \"Kevin\", 90, \"Banana Blaster\", \"Short\", 150);\n",
    "        Minion minion2 = new Minion(\"Purple\", \"Stuart\", 80, \"Freeze Ray\", \"Bald\", 145);\n",
    "        Minion minion3 = new Minion(\"Yellow\", \"Bob\", 100, \"Grappling Hook\", \"Curly\", 160);\n",
    "        \n",
    "        System.out.println(\"Average Energy Levels: \" + Minion.getAverageEnergyLevels());\n",
    "    }\n",
    "}\n",
    "Main.main(null);"
   ]
  },
  {
   "cell_type": "markdown",
   "metadata": {},
   "source": [
    "# Extra Credit"
   ]
  },
  {
   "cell_type": "code",
   "execution_count": 60,
   "metadata": {
    "vscode": {
     "languageId": "java"
    }
   },
   "outputs": [
    {
     "name": "stdout",
     "output_type": "stream",
     "text": [
      "Kevin needs 0 minutes to recover.\n",
      "Stuart needs 25 minutes to recover.\n",
      "Bob needs 0 minutes to recover.\n"
     ]
    }
   ],
   "source": [
    "public class Minion {\n",
    "    private String color;\n",
    "    private String name;\n",
    "    private int energyLevels;\n",
    "    private String gadgets;\n",
    "    private String hair;\n",
    "    private int height;\n",
    "    private int recoveryTime;\n",
    "\n",
    "    public Minion(String color, String name, int energyLevels, String gadgets, String hair, int height) {\n",
    "        this.color = color;\n",
    "        this.name = name;\n",
    "        this.energyLevels = energyLevels;\n",
    "        this.gadgets = gadgets;\n",
    "        this.hair = hair;\n",
    "        this.height = height;\n",
    "        this.recoveryTime = calculateRecoveryTime();\n",
    "    }\n",
    "\n",
    "    private int calculateRecoveryTime() {\n",
    "        int time = 0;\n",
    "        if (color.equals(\"Purple\")) {\n",
    "            time += 10;\n",
    "        }\n",
    "        if (energyLevels < 50) {\n",
    "            time += 15;\n",
    "        }\n",
    "        return time;\n",
    "    }\n",
    "\n",
    "    public void printRecoveryTime() {\n",
    "        System.out.println(name + \" needs \" + recoveryTime + \" minutes to recover.\");\n",
    "    }\n",
    "}\n",
    "\n",
    "public class Main {\n",
    "    public static void main(String[] args) {\n",
    "        Minion minion1 = new Minion(\"Yellow\", \"Kevin\", 90, \"Banana Blaster\", \"Short\", 150);\n",
    "        Minion minion2 = new Minion(\"Purple\", \"Stuart\", 40, \"Freeze Ray\", \"Bald\", 145);\n",
    "        Minion minion3 = new Minion(\"Yellow\", \"Bob\", 100, \"Grappling Hook\", \"Curly\", 160);\n",
    "        \n",
    "        minion1.printRecoveryTime();\n",
    "        minion2.printRecoveryTime();\n",
    "        minion3.printRecoveryTime();\n",
    "    }\n",
    "}\n",
    "Main.main(null);"
   ]
  }
 ],
 "metadata": {
  "kernelspec": {
   "display_name": "Java",
   "language": "java",
   "name": "java"
  },
  "language_info": {
   "codemirror_mode": "java",
   "file_extension": ".jshell",
   "mimetype": "text/x-java-source",
   "name": "Java",
   "pygments_lexer": "java",
   "version": "17.0.11+7-LTS-207"
  },
  "orig_nbformat": 4
 },
 "nbformat": 4,
 "nbformat_minor": 2
}
