{
 "cells": [
  {
   "cell_type": "markdown",
   "metadata": {},
   "source": [
    "---\n",
    "layout: post\n",
    "comments: true\n",
    "title: Final Exam/Retrospective for Trimester 2\n",
    "permalink: /tri2final\n",
    "---"
   ]
  },
  {
   "cell_type": "markdown",
   "metadata": {},
   "source": [
    "## Five Things I've Done\n",
    "\n",
    "1. Team Teach on 2D Arrays Part 1\n",
    "\n",
    "    - Successfully gave a quick lesson on 2D Arrays and then went over a practice AP Exam \n",
    "\n",
    "2. Crypto Mining Connected to Backend \n",
    "\n",
    "    - At first Crypto Mining was all running on frontend, including the api being on the frontend. We had to change this if we wanted to collaborate and merge our feature with other groups. The main benefit of this was that after moving the APIs to the backend we could also implement the balance onto out feature.\n",
    "\n",
    "3. Matching Crypto Mining CSS with the whole website\n",
    "\n",
    "    - Originally out crypto mining feature looked like a whole other website, so for this reason we had to implement a global CSS for all of Gamify to use. Even with the global CSS on our feature we decided to be little uniqe and add some extra visual effects for out buttons and pop ups. This helped to make our page more appealing which was very usefull for N@TM. \n",
    "\n",
    "4. Make Crypto Mining a proper simulation. \n",
    "\n",
    "    - What I mean by this is that until a couple weeks before N@TM crypto mining was working as we wanted. After three hours the mining would automatically stop and all progress would be lost. We knew that we needed the simulation to work for N@TM. To fix this issue we had to collaborate with the stocks group because they made a new table in the backend for balance and all of the gamify features with a currency used that table. \n",
    "\n",
    "5. Night at the Museum\n",
    "\n",
    "    - Unfortunately at N@TM two of our group members were unable to attend so it was just Jason and I presenting. Some might see this as a bad thing but I thought it was a good thing because I got to talk mroe than I usually do at N@TM. I was responsible for talking about my missing peers feature as well as part of my feature so it was the perfect oppurtunity to talk more and properly show what I knew. "
   ]
  },
  {
   "cell_type": "markdown",
   "metadata": {},
   "source": [
    "## Key Feature "
   ]
  }
 ],
 "metadata": {
  "language_info": {
   "name": "python"
  }
 },
 "nbformat": 4,
 "nbformat_minor": 2
}
