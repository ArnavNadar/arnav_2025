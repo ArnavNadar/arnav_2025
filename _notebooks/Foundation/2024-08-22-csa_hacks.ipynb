{
 "cells": [
  {
   "cell_type": "markdown",
   "metadata": {},
   "source": [
    "---\n",
    "layout: post\n",
    "title: List, Emoji, Article Hack\n",
    "description:  Demo for CSA SASS and SCSS and other works\n",
    "type: issues \n",
    "comments: true\n",
    "---"
   ]
  },
  {
   "cell_type": "code",
   "execution_count": 19,
   "metadata": {},
   "outputs": [
    {
     "name": "stdout",
     "output_type": "stream",
     "text": [
      "Pre sorted list:  [12, 23, 34, 45, 32, 1, 23, 5]\n",
      "Sorted list:  [1, 5, 12, 23, 23, 32, 34, 45]\n"
     ]
    }
   ],
   "source": [
    "# Sorting algorithms\n",
    "def bogo_sort(lst):\n",
    "    while not is_sorted(lst):\n",
    "        shuffle_size = random.randint(0, len(lst) - 1)\n",
    "        count = 0\n",
    "        while count < shuffle_size:\n",
    "            a = random.randint(0, len(lst) - 1)\n",
    "            b = random.randint(0, len(lst) - 1)\n",
    "            lst[a], lst[b] = lst[b], lst[a]\n",
    "            count += 1\n",
    "    return lst\n",
    "\n",
    "def is_sorted(lst):\n",
    "    for i in range(len(lst) - 1):\n",
    "        if lst[i] > lst[i + 1]:\n",
    "            return False\n",
    "    return True\n",
    "\n",
    "def main():\n",
    "    user_input = input(\"Enter a list of numbers separated by commas: \")\n",
    "    lst = [int(num) for num in user_input.split(\",\")]\n",
    "    \n",
    "    print(\"Pre sorted list: \", lst)\n",
    "    print(\"Sorted list: \", bogo_sort(lst))\n",
    "\n",
    "if __name__ == \"__main__\":\n",
    "    main()\n"
   ]
  },
  {
   "cell_type": "code",
   "execution_count": 21,
   "metadata": {},
   "outputs": [
    {
     "name": "stdout",
     "output_type": "stream",
     "text": [
      "My name is Arnav  👍\n"
     ]
    }
   ],
   "source": [
    "import emoji\n",
    "\n",
    "while True:\n",
    "    message = str(input(\"Say what you want: \"))\n",
    "    emoji_type = str(input(\"Type the kind of emoji that you want: T for thumbs up, H for heart\"))\n",
    "    if emoji_type.lower() == \"t\":\n",
    "        print(message + \" \" + emoji.emojize(':thumbs_up:'))\n",
    "        break\n",
    "    elif emoji_type.lower() == \"b\":\n",
    "        print(message + \" \" + emoji.emojize(':blush:'))\n",
    "        break\n",
    "else:\n",
    "    print(\"Not one of the letters\")\n"
   ]
  },
  {
   "cell_type": "code",
   "execution_count": 14,
   "metadata": {},
   "outputs": [
    {
     "data": {
      "text/markdown": [
       "In College Sports’ Big Money Era, Here’s Where the Dollars Go\n",
       "\n",
       "What wins college football championships? A potent defense? An explosive offense? In the era of name, image and likeness, it is money.\n",
       "\n",
       "Lots of it.\n",
       "\n",
       "It can cost as much as $10.5 million for a title-contending starting offense and defense in the new Power Four conferences. The big-ticket item, of course, lines up behind the center.\n",
       "\n",
       "A blue-chip quarterback in a Power Four conference — schools like Alabama, Michigan and Washington — can expect to earn hundreds of thousands of dollars annually through name, image and likeness, or N.I.L., deals. A quarterback in the Southeastern Conference can bring in more than $1 million, on average.\n",
       "\n",
       "How much top-earning football players make in a year Expected annual compensation for starting players in the Power Four conferences by position Source: Opendorse. Data is based on N.I.L. transactions disclosed through or processed by Opendorse between July 1, 2021, and June 30, 2024. Note: To be included in the calculations players’ earnings must rank in the top 25 at their position. Specialist ($60,000) and Tight End ($140,000) positions are not labeled.\n",
       "\n",
       "And that is merely an average. Ask the Texas Longhorns.\n",
       "\n",
       "Quinn Ewers $1.7 million Texas Their starter, Quinn Ewers, has N.I.L. deals worth nearly $2 million annually, according to the website On3, which tracks deals for college athletes. Arch Manning $3.1 million Texas Arch Manning, his backup who hails from one of football’s royal families, has deals worth more than $3 million. Carson Beck $1.4 million Georgia Georgia’s quarterback, Carson Beck, brings in enough that he recently bought a Lamborghini that retails for $270,000. Source: On3\n",
       "\n",
       "Between the cash pouring into athletic programs via collectives — a fancy name for boosters who funnel much of the N.I.L. money to players — and more lenient transfer rules, a sort of eBay to buy athletes has been created, transforming how powerhouse teams are built.\n",
       "\n",
       "“It’s whoever wants to pay, the most money raised, the most money to buy the most players, is going to have the best opportunity to win,” Nick Saban, the recently retired football coach at the University of Alabama, told Congress in March.\n",
       "\n",
       "But how do athletes, coaches and administrators determine the going rates? Many consult the Black Book, a kind of Zillow for college sports, which details an athlete’s expected annual earnings, and, in the case of sports like football and men’s and women’s basketball, even breaking them down by position and conference.\n",
       "\n",
       "$1.7 billion market $1.7 billion market 80% collectives $1.7 billion market 30% disclosed A series of three proportional area charts related to the N.I.L market. The first square shows the overall size of the N.I.L. market, the second shows that 80 percent of the market is made up by donor groups known as collectives and the third shows that only 30 percent of the market is publicly disclosed. Opendorse, the company behind the Black Book, projects around $1.7 billion in transactions in the N.I.L. market this year. Of that, 80 percent will come through collectives like Texas’ Team One Foundation and the Classic City Collective at the University of Georgia. But even that is an incomplete picture of a rapidly changing N.I.L. frontier awash with money. There is no universal requirement for athletes to disclose how much they are being paid. Less than a third of the money that student athletes are making is publicly known, according to Opendorse.\n",
       "\n",
       "Still, the Black Book is a must have for university collectives and collegiate athletic officials, as well as the lawyers involved in House v. N.C.A.A., an antitrust case in which the Black Book and all Opendorse data from 2016 through 2022 were subpoenaed. The sides recently agreed to a $2.8 billion settlement.\n",
       "\n",
       "If a federal judge approves it, schools will be allowed to set aside around $20 million per year, beginning in the fall of 2025, to pay athletes. (The proposal also calls for a program by which athletes’ N.I.L. deals could be reviewed.)\n",
       "\n",
       "The Black Book, copies of which were obtained by The New York Times, shows that, even as football remains the dominant sport financially, sports like women’s basketball have become increasingly lucrative. In her final season at the University of Iowa, Caitlin Clark sold out arenas, increased television ratings and had sponsorship deals valued at $3 million.\n",
       "\n",
       "Clark may have been the sport’s unicorn, but title-contending programs are expected to spend more than $730,000 on their starting five, with guards being the most valued at $225,000.\n",
       "\n",
       "The N.I.L. era has also created a new generation of entrepreneurs and given them a more concrete sense of their earning potential. For instance, Alex Glover, a star volleyball player who recently concluded her career at Southern Methodist University, made more than $100,000 from sponsors who wanted to be associated with her Instagram video series, called “Day-In-The-Life of a D1 Volleyballer.”\n",
       "\n",
       "Livvy Dunne $3.9 million L.S.U. Olivia Dunne, a gymnast at Louisiana State University, has become something of a celebrity in recent years. Dunne, who goes by Livvy, has leveraged a large social media following — she has over five million followers on Instagram — to notch deals with major brands like Nautica and Vuori. Paige Bueckers $1.4 million Connecticut Paige Bueckers, a standout basketball star at the University of Connecticut, similarly has millions of followers on social media and has signed N.I.L. deals with Nike, Gatorade and Verizon. Source: On3\n",
       "\n",
       "The top N.I.L. earners in women’s gymnastics usually make around $20,000 annually, about 10 times as much as their male counterparts, according to data from Opendorse. Besides the major men’s sports — football, basketball and baseball — collegiate female athletes typically earn more than male athletes in the same sport.\n",
       "\n",
       "How men’s and women’s annual earnings compare in smaller sports Expected annual compensation in select Olympic sports $10,000 $20,000 Gymnastics Men Women Track/cross country Swimming/diving Soccer Volleyball Golf Tennis Lacrosse Ice hockey $5,000 $10,000 $15,000 $20,000 Gymnastics Men Women Track/cross country Swimming/diving Soccer Volleyball Golf Tennis Lacrosse Ice Hockey Source: Opendorse. Data is based on N.I.L. transactions disclosed through or processed by Opendorse between July 1, 2021, and June 30, 2024. Note: To be included in the calculations, players’ expected annual earnings must rank in at least the top 50 at their position. The Track/Cross Country category includes athletes in track and field.\n",
       "\n",
       "“By nature, athletes are disciplined and purpose-driven,” said Blake Lawrence, the co-founder of Opendorse. “What has been really cool to see is how many athletes on our platform, especially the women, lean into the opportunities to be creative and build a brand. They don’t want to get paid just for going to practice and games.”\n",
       "\n",
       "Lawrence, a former starting linebacker at the University of Nebraska, began Opendorse in 2012 to help his former teammate Prince Amukamara monetize his brand after he entered the N.F.L. as a first-round draft pick with the New York Giants. Lawrence understood the commitment required of college athletes and anticipated that the pay-to-play model was coming sooner rather than later. More than a decade on, some 150,000 athletes have used his platform to grow their name, image and likeness revenues.\n",
       "\n",
       "The company compiles its numbers based on previous N.I.L. marketing deals signed by a large cross section of football and basketball players and competitors in the so-called nonrevenue Olympic sports. Clients that pay for the information include university athletic departments, their collectives and athlete agencies.\n",
       "\n",
       "“I know what it takes to be an athlete and wanted to create something like Expedia or Zillow that took the mystery out of getting good value and putting that power in the hands of athletes,” said Lawrence, who offers tutorials on topics like marketing and pay benchmarks on his Instagram feed. “This is all new to them. I see six contracts a second and want them armed with information to make what could be life-changing decisions.”\n",
       "\n",
       "Like the American economy, college sports have a hierarchy, and its “1 percenters” are the so-called Power conferences like the SEC and the Big Ten.\n",
       "\n",
       "How the Power Four conferences compare Expected annual compensation for starting players in each conference by position $15 million $14.4m Earnings for offensive linemen increased significantly in the last year. Big Ten players in this position are expected to make around $300,000 this year. $10 million Wide receiver $710,000 Defensive line $760,000 $5.2m $4.6m $5 million Offensive line $780,000 $3.3m Quarterback $1,040,000 Big 12 A.C.C. Big Ten SEC $15 million $14.4m Earnings for offensive linemen increased significantly in the last year. Big Ten players in this position are expected to make around $300,000 this year. $10 million $710,000 Wide receiver $760,000 Defensive line $5.2m $4.6m $5 million Offensive line $780,000 $3.3m Quarterback $1,040,000 Big 12 A.C.C. Big Ten SEC Source: Opendorse. Data is based on N.I.L. transactions disclosed through or processed by Opendorse between July 1, 2021, and June 30, 2024. Note: To be included in the calculations players’ earnings must rank in the top 10 at their position.\n",
       "\n",
       "The expected annual N.I.L. compensation for a top-10-earning football player at any position is $216,000 for the Big Ten and $565,000 in the SEC, which is more than three times the annual earnings of $159,000 in the Big 12.\n",
       "\n",
       "The SEC’s stature is even more pronounced this year. The former Big 12 powerhouses Texas and Oklahoma have joined the conference, which is made up of state universities that have long taken football seriously and invested heavily in athletics. The top-10-earning SEC players at every position — except for tight ends and specialists — earn more annually on average than players in any other Power Four conference. A running back in the SEC can now expect to make about half a million dollars, almost as much as a Big 12 quarterback. Offensive and defensive linemen in the SEC do even better, tallying upward of $700,000.\n",
       "\n",
       "For the smaller, so-called Group of Five conferences, which include Conference USA and the Mountain West, the new N.I.L. environment puts football championships even further out of reach. The average value of top 25 players at any position at schools such as Liberty (part of Conference USA) or Boise State (in the Mountain West) is just under $50,000.\n",
       "\n",
       "The money is lucrative in the top tier of men’s and women’s basketball, as well: A starting five of top-25-earning men’s basketball players costs about $3.3 million, with forwards on the top of the pay scale making around $750,000. And while women’s basketball earnings are comparatively much lower, top-level women’s players have had substantial growth since last year, with pay across all positions up by $30,000.\n",
       "\n",
       "How much top-earning basketball players make Expected annual compensation for players, on average, by position $3.3 million $510,000 Center $3 million Guard $640,000 In women’s basketball, the center position's earnings grew by more than double its expectations, compared with last year. $2 million $750,000 Forward Center $70,000 $1 million $730,000 Forward $100,000 $230,000 Guard Men’s basketball N.C.A.A. Division I Women’s basketball N.C.A.A. Division I $3.3 million $510,000 Center $3 million Guard $640,000 In women’s basketball, the center position's earnings grew by more than double its expectations, compared with last year. $2 million $750,000 Forward $1 million Center $70,000 $730,000 Forward $100,000 Guard $230,000 Men’s basketball N.C.A.A. Division I Women’s basketball N.C.A.A. Division I Source: Opendorse. Data is based on N.I.L. transactions disclosed through or processed by Opendorse between July 1, 2021, and June 30, 2024. Note: To be included in the calculations players’ earnings must rank in the top 25 at their position.\n",
       "\n",
       "Even better for basketball stars? With their faces and personalities in full view during games, it is easier for them to enhance revenues beyond collective money through sponsorship partnerships with national brands.\n",
       "\n",
       "This new market allowed Armando Bacot, who played at the University of North Carolina, to remain in college last season and begin work on a master’s degree in business. His partnerships with the Opendorse clients Dunkin and Kellogg’s Frosted Flakes, as well as others with regional and local companies, have made him a multimillionaire.\n",
       "\n",
       "Many star players like Bacot are now forgoing the ritual of leaving school after just a year or two to enter the N.B.A. Instead of jumping (ready or not) into the draft in search of riches, more players are choosing the ample N.I.L. pay and more time to work on their games and degrees. (Bacot went undrafted and signed with the Utah Jazz this summer.)\n",
       "\n",
       "“With more and more veteran guys staying in school longer, it’s going to be harder and harder for freshmen to get big minutes, because coaches would rather have veterans,” said Daniel Hennes, the chief executive of Engage, which represents college basketball stars like Bacot in N.I.L. deals. “So, underclassmen will stay in school longer, and the draft will get older and older. In a lot of ways, that’s good for everyone.”\n",
       "\n",
       "Mike Boynton is among the many college coaches who are not so sure. He brought the future N.B.A. star Cade Cunningham to Oklahoma State with four years of shoe leather. He outworked more accomplished rivals with national titles on their résumés with the promise of doing right by the young star.\n",
       "\n",
       "“I can’t work that hard anymore,” said Boynton, now an assistant at the University of Michigan. “Not when you can say, ‘Hey, here’s $500,000 to come spend nine months over here.’”\n",
       "\n",
       "Big sports still pay big money … $200,000 $400,000 M. Basketball Football W. Basketball Baseball $200,000 $400,000 $600,000 Men's Basketball Football Women's Basketball Baseball … but athletes in the so-called nonrevenue sports are finding increased earnings, too. $10,000 $20,000 M. Golf W. Gymnastics Wrestling M. Track/cross country W. Track/cross country W. Swimming/diving W. Soccer Softball W. Volleyball W. Golf W. Tennis M. Lacrosse M. Soccer M. Swimming/diving Both men’s and women’s track and field athletes saw large increases in expected earnings this year, thanks in part to the added exposure for these sports at the Olympics this year. W. Lacrosse M. Tennis W. Ice hockey M. Ice hockey M. Gymnastics Field hockey Rowing Bowling M. Volleyball Rifle Fencing $5,000 $10,000 $15,000 $20,000 Men’s golf Women’s gymnastics Wrestling Men’s track/cross country Women’s track/cross country Women’s swimming/diving Women’s soccer Softball Women’s volleyball Women’s golf Women’s tennis Men’s lacrosse Men’s soccer Men’s swimming/diving Both men’s and women’s track and field athletes saw large increases in expected earnings this year, thanks in part to the added exposure for these sports at the Olympics this year. Women’s lacrosse Men’s tennis Women’s ice hockey Men’s ice hockey Men’s gymnastics Field hockey Rowing Bowling Men’s volleyball Rifle Fencing Source: Opendorse. Data is based on N.I.L. transactions disclosed through or processed by Opendorse between July 1, 2021, and June 30, 2024. Note: To be included in the calculations, players’ expected annual earnings must rank in the top 25 at their position. The Track/Cross Country category includes athletes in track and field.\n",
       "\n",
       "For many athletes — those who aren’t top stars in the marquee sports — the N.I.L. era is different, though no less exciting. Zoe Ledet, a 19-year-old sprinter at West Virginia State University, joined TikTok in 2020, at the height of Covid-era teenage boredom. She said she quickly amassed a following for “funny skits, hair care, you know, relatable stuff” and now has 1.7 million followers on the platform and nearly 300,000 on Instagram. Still, Ledet never thought brands would be interested in working with her as an athlete.\n",
       "\n",
       "“I knew that big track athletes like Sha’Carri could get deals with Nike, but I didn’t know there were smaller deals to be had,” said Ledet, referring to the Olympic sprinter Sha’Carri Richardson.\n",
       "\n",
       "Zoe Ledet $3,500 West Virginia State Last year, during her freshman season, Ledet was approached by B.E. Collective+, an organization that supports student athletes from historically Black colleges and universities in the N.I.L. market. She signed with the group and had N.I.L. deals worth about $3,500 in her first year.\n",
       "\n",
       "For Ledet, those earnings aren’t life-changing money, but she has been able to use platforms like the BE Collective+ and Opendorse to gain a better sense of her value in the new marketplace. Her followers now ask her to post more about track and to share videos from meets, content that she hopes will in turn lead to more N.I.L. deals.\n",
       "\n",
       "“There are a lot of athletes bigger than me, of course, but N.I.L. has allowed athletes like me to widen our platform and get more recognition, too,” she said."
      ],
      "text/plain": [
       "<IPython.core.display.Markdown object>"
      ]
     },
     "metadata": {},
     "output_type": "display_data"
    },
    {
     "name": "stdout",
     "output_type": "stream",
     "text": [
      "\n",
      "\n"
     ]
    }
   ],
   "source": [
    "from newspaper import Article\n",
    "from IPython.display import display, Markdown\n",
    "\n",
    "num_urls = int(input(\"How many articles are you going to link?\"))\n",
    "\n",
    "urls = []\n",
    "for x in range(num_urls):\n",
    "    url_input = str(input(\"Give your link.\"))\n",
    "    urls.append(url_input)\n",
    "\n",
    "information_input = input(\"Do you want to see the author (type a) or some text (type t).\")   \n",
    "\n",
    "if information_input.lower() == \"a\":\n",
    "    for url in urls:\n",
    "        article = Article(url)\n",
    "        article.download()\n",
    "        article.parse()\n",
    "        \n",
    "        display(article.authors)\n",
    "elif information_input.lower() == \"t\":\n",
    "    for url in urls:\n",
    "        article = Article(url)\n",
    "        article.download()\n",
    "        article.parse()\n",
    "        #article.nlp()\n",
    "        display(Markdown(article.text))\n",
    "        print(\"\\n\")\n",
    "\n",
    "else:\n",
    "    print(\"Not an option\")\n",
    "\n",
    "\n",
    "\n"
   ]
  },
  {
   "cell_type": "code",
   "execution_count": 16,
   "metadata": {},
   "outputs": [
    {
     "data": {
      "text/markdown": [
       "In College Sports’ Big Money Era, Here’s Where the Dollars Go"
      ],
      "text/plain": [
       "<IPython.core.display.Markdown object>"
      ]
     },
     "metadata": {},
     "output_type": "display_data"
    },
    {
     "data": {
      "text/markdown": [
       "In College Sports’ Big Money Era, Here’s Where the Dollars Go\n",
       "\n",
       "What wins college football championships? A potent defense? An explosive offense? In the era of name, image and likeness, it is money.\n",
       "\n",
       "Lots of it.\n",
       "\n",
       "It can cost as much as $10.5 million for a title-contending starting offense and defense in the new Power Four conferences. The big-ticket item, of course, lines up behind the center.\n",
       "\n",
       "A blue-chip quarterback in a Power Four conference — schools like Alabama, Michigan and Washington — can expect to earn hundreds of thousands of dollars annually through name, image and likeness, or N.I.L., deals. A quarterback in the Southeastern Conference can bring in more than $1 million, on average.\n",
       "\n",
       "How much top-earning football players make in a year Expected annual compensation for starting players in the Power Four conferences by position Source: Opendorse. Data is based on N.I.L. transactions disclosed through or processed by Opendorse between July 1, 2021, and June 30, 2024. Note: To be included in the calculations players’ earnings must rank in the top 25 at their position. Specialist ($60,000) and Tight End ($140,000) positions are not labeled.\n",
       "\n",
       "And that is merely an average. Ask the Texas Longhorns.\n",
       "\n",
       "Quinn Ewers $1.7 million Texas Their starter, Quinn Ewers, has N.I.L. deals worth nearly $2 million annually, according to the website On3, which tracks deals for college athletes. Arch Manning $3.1 million Texas Arch Manning, his backup who hails from one of football’s royal families, has deals worth more than $3 million. Carson Beck $1.4 million Georgia Georgia’s quarterback, Carson Beck, brings in enough that he recently bought a Lamborghini that retails for $270,000. Source: On3\n",
       "\n",
       "Between the cash pouring into athletic programs via collectives — a fancy name for boosters who funnel much of the N.I.L. money to players — and more lenient transfer rules, a sort of eBay to buy athletes has been created, transforming how powerhouse teams are built.\n",
       "\n",
       "“It’s whoever wants to pay, the most money raised, the most money to buy the most players, is going to have the best opportunity to win,” Nick Saban, the recently retired football coach at the University of Alabama, told Congress in March.\n",
       "\n",
       "But how do athletes, coaches and administrators determine the going rates? Many consult the Black Book, a kind of Zillow for college sports, which details an athlete’s expected annual earnings, and, in the case of sports like football and men’s and women’s basketball, even breaking them down by position and conference.\n",
       "\n",
       "$1.7 billion market $1.7 billion market 80% collectives $1.7 billion market 30% disclosed A series of three proportional area charts related to the N.I.L market. The first square shows the overall size of the N.I.L. market, the second shows that 80 percent of the market is made up by donor groups known as collectives and the third shows that only 30 percent of the market is publicly disclosed. Opendorse, the company behind the Black Book, projects around $1.7 billion in transactions in the N.I.L. market this year. Of that, 80 percent will come through collectives like Texas’ Team One Foundation and the Classic City Collective at the University of Georgia. But even that is an incomplete picture of a rapidly changing N.I.L. frontier awash with money. There is no universal requirement for athletes to disclose how much they are being paid. Less than a third of the money that student athletes are making is publicly known, according to Opendorse.\n",
       "\n",
       "Still, the Black Book is a must have for university collectives and collegiate athletic officials, as well as the lawyers involved in House v. N.C.A.A., an antitrust case in which the Black Book and all Opendorse data from 2016 through 2022 were subpoenaed. The sides recently agreed to a $2.8 billion settlement.\n",
       "\n",
       "If a federal judge approves it, schools will be allowed to set aside around $20 million per year, beginning in the fall of 2025, to pay athletes. (The proposal also calls for a program by which athletes’ N.I.L. deals could be reviewed.)\n",
       "\n",
       "The Black Book, copies of which were obtained by The New York Times, shows that, even as football remains the dominant sport financially, sports like women’s basketball have become increasingly lucrative. In her final season at the University of Iowa, Caitlin Clark sold out arenas, increased television ratings and had sponsorship deals valued at $3 million.\n",
       "\n",
       "Clark may have been the sport’s unicorn, but title-contending programs are expected to spend more than $730,000 on their starting five, with guards being the most valued at $225,000.\n",
       "\n",
       "The N.I.L. era has also created a new generation of entrepreneurs and given them a more concrete sense of their earning potential. For instance, Alex Glover, a star volleyball player who recently concluded her career at Southern Methodist University, made more than $100,000 from sponsors who wanted to be associated with her Instagram video series, called “Day-In-The-Life of a D1 Volleyballer.”\n",
       "\n",
       "Livvy Dunne $3.9 million L.S.U. Olivia Dunne, a gymnast at Louisiana State University, has become something of a celebrity in recent years. Dunne, who goes by Livvy, has leveraged a large social media following — she has over five million followers on Instagram — to notch deals with major brands like Nautica and Vuori. Paige Bueckers $1.4 million Connecticut Paige Bueckers, a standout basketball star at the University of Connecticut, similarly has millions of followers on social media and has signed N.I.L. deals with Nike, Gatorade and Verizon. Source: On3\n",
       "\n",
       "The top N.I.L. earners in women’s gymnastics usually make around $20,000 annually, about 10 times as much as their male counterparts, according to data from Opendorse. Besides the major men’s sports — football, basketball and baseball — collegiate female athletes typically earn more than male athletes in the same sport.\n",
       "\n",
       "How men’s and women’s annual earnings compare in smaller sports Expected annual compensation in select Olympic sports $10,000 $20,000 Gymnastics Men Women Track/cross country Swimming/diving Soccer Volleyball Golf Tennis Lacrosse Ice hockey $5,000 $10,000 $15,000 $20,000 Gymnastics Men Women Track/cross country Swimming/diving Soccer Volleyball Golf Tennis Lacrosse Ice Hockey Source: Opendorse. Data is based on N.I.L. transactions disclosed through or processed by Opendorse between July 1, 2021, and June 30, 2024. Note: To be included in the calculations, players’ expected annual earnings must rank in at least the top 50 at their position. The Track/Cross Country category includes athletes in track and field.\n",
       "\n",
       "“By nature, athletes are disciplined and purpose-driven,” said Blake Lawrence, the co-founder of Opendorse. “What has been really cool to see is how many athletes on our platform, especially the women, lean into the opportunities to be creative and build a brand. They don’t want to get paid just for going to practice and games.”\n",
       "\n",
       "Lawrence, a former starting linebacker at the University of Nebraska, began Opendorse in 2012 to help his former teammate Prince Amukamara monetize his brand after he entered the N.F.L. as a first-round draft pick with the New York Giants. Lawrence understood the commitment required of college athletes and anticipated that the pay-to-play model was coming sooner rather than later. More than a decade on, some 150,000 athletes have used his platform to grow their name, image and likeness revenues.\n",
       "\n",
       "The company compiles its numbers based on previous N.I.L. marketing deals signed by a large cross section of football and basketball players and competitors in the so-called nonrevenue Olympic sports. Clients that pay for the information include university athletic departments, their collectives and athlete agencies.\n",
       "\n",
       "“I know what it takes to be an athlete and wanted to create something like Expedia or Zillow that took the mystery out of getting good value and putting that power in the hands of athletes,” said Lawrence, who offers tutorials on topics like marketing and pay benchmarks on his Instagram feed. “This is all new to them. I see six contracts a second and want them armed with information to make what could be life-changing decisions.”\n",
       "\n",
       "Like the American economy, college sports have a hierarchy, and its “1 percenters” are the so-called Power conferences like the SEC and the Big Ten.\n",
       "\n",
       "How the Power Four conferences compare Expected annual compensation for starting players in each conference by position $15 million $14.4m Earnings for offensive linemen increased significantly in the last year. Big Ten players in this position are expected to make around $300,000 this year. $10 million Wide receiver $710,000 Defensive line $760,000 $5.2m $4.6m $5 million Offensive line $780,000 $3.3m Quarterback $1,040,000 Big 12 A.C.C. Big Ten SEC $15 million $14.4m Earnings for offensive linemen increased significantly in the last year. Big Ten players in this position are expected to make around $300,000 this year. $10 million $710,000 Wide receiver $760,000 Defensive line $5.2m $4.6m $5 million Offensive line $780,000 $3.3m Quarterback $1,040,000 Big 12 A.C.C. Big Ten SEC Source: Opendorse. Data is based on N.I.L. transactions disclosed through or processed by Opendorse between July 1, 2021, and June 30, 2024. Note: To be included in the calculations players’ earnings must rank in the top 10 at their position.\n",
       "\n",
       "The expected annual N.I.L. compensation for a top-10-earning football player at any position is $216,000 for the Big Ten and $565,000 in the SEC, which is more than three times the annual earnings of $159,000 in the Big 12.\n",
       "\n",
       "The SEC’s stature is even more pronounced this year. The former Big 12 powerhouses Texas and Oklahoma have joined the conference, which is made up of state universities that have long taken football seriously and invested heavily in athletics. The top-10-earning SEC players at every position — except for tight ends and specialists — earn more annually on average than players in any other Power Four conference. A running back in the SEC can now expect to make about half a million dollars, almost as much as a Big 12 quarterback. Offensive and defensive linemen in the SEC do even better, tallying upward of $700,000.\n",
       "\n",
       "For the smaller, so-called Group of Five conferences, which include Conference USA and the Mountain West, the new N.I.L. environment puts football championships even further out of reach. The average value of top 25 players at any position at schools such as Liberty (part of Conference USA) or Boise State (in the Mountain West) is just under $50,000.\n",
       "\n",
       "The money is lucrative in the top tier of men’s and women’s basketball, as well: A starting five of top-25-earning men’s basketball players costs about $3.3 million, with forwards on the top of the pay scale making around $750,000. And while women’s basketball earnings are comparatively much lower, top-level women’s players have had substantial growth since last year, with pay across all positions up by $30,000.\n",
       "\n",
       "How much top-earning basketball players make Expected annual compensation for players, on average, by position $3.3 million $510,000 Center $3 million Guard $640,000 In women’s basketball, the center position's earnings grew by more than double its expectations, compared with last year. $2 million $750,000 Forward Center $70,000 $1 million $730,000 Forward $100,000 $230,000 Guard Men’s basketball N.C.A.A. Division I Women’s basketball N.C.A.A. Division I $3.3 million $510,000 Center $3 million Guard $640,000 In women’s basketball, the center position's earnings grew by more than double its expectations, compared with last year. $2 million $750,000 Forward $1 million Center $70,000 $730,000 Forward $100,000 Guard $230,000 Men’s basketball N.C.A.A. Division I Women’s basketball N.C.A.A. Division I Source: Opendorse. Data is based on N.I.L. transactions disclosed through or processed by Opendorse between July 1, 2021, and June 30, 2024. Note: To be included in the calculations players’ earnings must rank in the top 25 at their position.\n",
       "\n",
       "Even better for basketball stars? With their faces and personalities in full view during games, it is easier for them to enhance revenues beyond collective money through sponsorship partnerships with national brands.\n",
       "\n",
       "This new market allowed Armando Bacot, who played at the University of North Carolina, to remain in college last season and begin work on a master’s degree in business. His partnerships with the Opendorse clients Dunkin and Kellogg’s Frosted Flakes, as well as others with regional and local companies, have made him a multimillionaire.\n",
       "\n",
       "Many star players like Bacot are now forgoing the ritual of leaving school after just a year or two to enter the N.B.A. Instead of jumping (ready or not) into the draft in search of riches, more players are choosing the ample N.I.L. pay and more time to work on their games and degrees. (Bacot went undrafted and signed with the Utah Jazz this summer.)\n",
       "\n",
       "“With more and more veteran guys staying in school longer, it’s going to be harder and harder for freshmen to get big minutes, because coaches would rather have veterans,” said Daniel Hennes, the chief executive of Engage, which represents college basketball stars like Bacot in N.I.L. deals. “So, underclassmen will stay in school longer, and the draft will get older and older. In a lot of ways, that’s good for everyone.”\n",
       "\n",
       "Mike Boynton is among the many college coaches who are not so sure. He brought the future N.B.A. star Cade Cunningham to Oklahoma State with four years of shoe leather. He outworked more accomplished rivals with national titles on their résumés with the promise of doing right by the young star.\n",
       "\n",
       "“I can’t work that hard anymore,” said Boynton, now an assistant at the University of Michigan. “Not when you can say, ‘Hey, here’s $500,000 to come spend nine months over here.’”\n",
       "\n",
       "Big sports still pay big money … $200,000 $400,000 M. Basketball Football W. Basketball Baseball $200,000 $400,000 $600,000 Men's Basketball Football Women's Basketball Baseball … but athletes in the so-called nonrevenue sports are finding increased earnings, too. $10,000 $20,000 M. Golf W. Gymnastics Wrestling M. Track/cross country W. Track/cross country W. Swimming/diving W. Soccer Softball W. Volleyball W. Golf W. Tennis M. Lacrosse M. Soccer M. Swimming/diving Both men’s and women’s track and field athletes saw large increases in expected earnings this year, thanks in part to the added exposure for these sports at the Olympics this year. W. Lacrosse M. Tennis W. Ice hockey M. Ice hockey M. Gymnastics Field hockey Rowing Bowling M. Volleyball Rifle Fencing $5,000 $10,000 $15,000 $20,000 Men’s golf Women’s gymnastics Wrestling Men’s track/cross country Women’s track/cross country Women’s swimming/diving Women’s soccer Softball Women’s volleyball Women’s golf Women’s tennis Men’s lacrosse Men’s soccer Men’s swimming/diving Both men’s and women’s track and field athletes saw large increases in expected earnings this year, thanks in part to the added exposure for these sports at the Olympics this year. Women’s lacrosse Men’s tennis Women’s ice hockey Men’s ice hockey Men’s gymnastics Field hockey Rowing Bowling Men’s volleyball Rifle Fencing Source: Opendorse. Data is based on N.I.L. transactions disclosed through or processed by Opendorse between July 1, 2021, and June 30, 2024. Note: To be included in the calculations, players’ expected annual earnings must rank in the top 25 at their position. The Track/Cross Country category includes athletes in track and field.\n",
       "\n",
       "For many athletes — those who aren’t top stars in the marquee sports — the N.I.L. era is different, though no less exciting. Zoe Ledet, a 19-year-old sprinter at West Virginia State University, joined TikTok in 2020, at the height of Covid-era teenage boredom. She said she quickly amassed a following for “funny skits, hair care, you know, relatable stuff” and now has 1.7 million followers on the platform and nearly 300,000 on Instagram. Still, Ledet never thought brands would be interested in working with her as an athlete.\n",
       "\n",
       "“I knew that big track athletes like Sha’Carri could get deals with Nike, but I didn’t know there were smaller deals to be had,” said Ledet, referring to the Olympic sprinter Sha’Carri Richardson.\n",
       "\n",
       "Zoe Ledet $3,500 West Virginia State Last year, during her freshman season, Ledet was approached by B.E. Collective+, an organization that supports student athletes from historically Black colleges and universities in the N.I.L. market. She signed with the group and had N.I.L. deals worth about $3,500 in her first year.\n",
       "\n",
       "For Ledet, those earnings aren’t life-changing money, but she has been able to use platforms like the BE Collective+ and Opendorse to gain a better sense of her value in the new marketplace. Her followers now ask her to post more about track and to share videos from meets, content that she hopes will in turn lead to more N.I.L. deals.\n",
       "\n",
       "“There are a lot of athletes bigger than me, of course, but N.I.L. has allowed athletes like me to widen our platform and get more recognition, too,” she said."
      ],
      "text/plain": [
       "<IPython.core.display.Markdown object>"
      ]
     },
     "metadata": {},
     "output_type": "display_data"
    },
    {
     "name": "stdout",
     "output_type": "stream",
     "text": [
      "\n",
      "\n"
     ]
    }
   ],
   "source": [
    "from newspaper import Article\n",
    "from IPython.display import display, Markdown\n",
    "\n",
    "\n",
    "urls = [\"https://www.nytimes.com/interactive/2024/08/31/business/nil-money-ncaa.html\"]\n",
    "       \n",
    "\n",
    "for url in urls:\n",
    "    article = Article(url)\n",
    "    article.download()\n",
    "    article.parse()\n",
    "    # Jupyter Notebook Display\n",
    "    # print(article.title)\n",
    "    display(Markdown(article.title)) # Jupyter display only\n",
    "    display(Markdown(article.text)) # Jupyter display only\n",
    "    print(\"\\n\")\n"
   ]
  }
 ],
 "metadata": {
  "kernelspec": {
   "display_name": "venv",
   "language": "python",
   "name": "python3"
  },
  "language_info": {
   "codemirror_mode": {
    "name": "ipython",
    "version": 3
   },
   "file_extension": ".py",
   "mimetype": "text/x-python",
   "name": "python",
   "nbconvert_exporter": "python",
   "pygments_lexer": "ipython3",
   "version": "3.12.0"
  }
 },
 "nbformat": 4,
 "nbformat_minor": 2
}
