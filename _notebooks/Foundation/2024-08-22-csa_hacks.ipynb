{
 "cells": [
  {
   "cell_type": "markdown",
   "metadata": {},
   "source": [
    "---\n",
    "layout: post\n",
    "title: List, Emoji, Article Hack\n",
    "description:  Demo for CSA SASS and SCSS and other works\n",
    "type: issues \n",
    "comments: true\n",
    "---"
   ]
  },
  {
   "cell_type": "code",
   "execution_count": 19,
   "metadata": {},
   "outputs": [
    {
     "name": "stdout",
     "output_type": "stream",
     "text": [
      "Pre sorted list:  [12, 23, 34, 45, 32, 1, 23, 5]\n",
      "Sorted list:  [1, 5, 12, 23, 23, 32, 34, 45]\n"
     ]
    }
   ],
   "source": [
    "# Sorting algorithms\n",
    "def bogo_sort(lst):\n",
    "    while not is_sorted(lst):\n",
    "        shuffle_size = random.randint(0, len(lst) - 1)\n",
    "        count = 0\n",
    "        while count < shuffle_size:\n",
    "            a = random.randint(0, len(lst) - 1)\n",
    "            b = random.randint(0, len(lst) - 1)\n",
    "            lst[a], lst[b] = lst[b], lst[a]\n",
    "            count += 1\n",
    "    return lst\n",
    "\n",
    "def is_sorted(lst):\n",
    "    for i in range(len(lst) - 1):\n",
    "        if lst[i] > lst[i + 1]:\n",
    "            return False\n",
    "    return True\n",
    "\n",
    "def main():\n",
    "    user_input = input(\"Enter a list of numbers separated by commas: \")\n",
    "    lst = [int(num) for num in user_input.split(\",\")]\n",
    "    \n",
    "    print(\"Pre sorted list: \", lst)\n",
    "    print(\"Sorted list: \", bogo_sort(lst))\n",
    "\n",
    "if __name__ == \"__main__\":\n",
    "    main()\n"
   ]
  },
  {
   "cell_type": "code",
   "execution_count": 21,
   "metadata": {},
   "outputs": [
    {
     "name": "stdout",
     "output_type": "stream",
     "text": [
      "My name is Arnav  👍\n"
     ]
    }
   ],
   "source": [
    "import emoji\n",
    "\n",
    "while True:\n",
    "    message = str(input(\"Say what you want: \"))\n",
    "    emoji_type = str(input(\"Type the kind of emoji that you want: T for thumbs up, H for heart\"))\n",
    "    if emoji_type.lower() == \"t\":\n",
    "        print(message + \" \" + emoji.emojize(':thumbs_up:'))\n",
    "        break\n",
    "    elif emoji_type.lower() == \"b\":\n",
    "        print(message + \" \" + emoji.emojize(':blush:'))\n",
    "        break\n",
    "else:\n",
    "    print(\"Not one of the letters\")\n"
   ]
  },
  {
   "cell_type": "code",
   "execution_count": 1,
   "metadata": {},
   "outputs": [
    {
     "data": {
      "text/markdown": [
       "For USA Basketball, the past several years have seen coaching changes, a disappointing result for the men, and the retirement of one of the greatest women's players ever. Make no mistake, though, the United States remains the team to beat at the Olympics.\n",
       "\n",
       "But a gold medal is not a foregone conclusion, particularly on the men's side, as other countries have gotten stronger and several foreign NBA stars will be leading their teams in Paris.\n",
       "\n",
       "Below are some of the biggest storylines from the world of basketball that will have an impact on the men's and women's tournaments at the upcoming 2024 Olympic Games."
      ],
      "text/plain": [
       "<IPython.core.display.Markdown object>"
      ]
     },
     "metadata": {},
     "output_type": "display_data"
    },
    {
     "name": "stdout",
     "output_type": "stream",
     "text": [
      "\n",
      "\n"
     ]
    }
   ],
   "source": [
    "from newspaper import Article\n",
    "from IPython.display import display, Markdown\n",
    "\n",
    "num_urls = int(input(\"How many articles are you going to link?\"))\n",
    "\n",
    "urls = []\n",
    "for x in range(num_urls):\n",
    "    url_input = str(input(\"Give your link.\"))\n",
    "    urls.append(url_input)\n",
    "\n",
    "information_input = input(\"Do you want to see the author (type a) or some text (type t).\")   \n",
    "\n",
    "if information_input.lower() == \"a\":\n",
    "    for url in urls:\n",
    "        article = Article(url)\n",
    "        article.download()\n",
    "        article.parse()\n",
    "        \n",
    "        display(article.authors)\n",
    "elif information_input.lower() == \"t\":\n",
    "    for url in urls:\n",
    "        article = Article(url)\n",
    "        article.download()\n",
    "        article.parse()\n",
    "        #article.nlp()\n",
    "        display(Markdown(article.text))\n",
    "        print(\"\\n\")\n",
    "\n",
    "else:\n",
    "    print(\"Not an option\")\n",
    "\n",
    "\n",
    "\n"
   ]
  },
  {
   "cell_type": "code",
   "execution_count": 2,
   "metadata": {},
   "outputs": [
    {
     "data": {
      "text/markdown": [
       "2024 USA men's basketball Olympic roster: College careers, highlights"
      ],
      "text/plain": [
       "<IPython.core.display.Markdown object>"
      ]
     },
     "metadata": {},
     "output_type": "display_data"
    },
    {
     "data": {
      "text/markdown": [
       "USA Basketball finalized its men's roster for the 2024 Paris Olympics.\n",
       "\n",
       "The 12-player roster includes LeBron James, Stephen Curry, Kevin Durant, Joel Embiid, Jayson Tatum, Kawhi Leonard*, Devin Booker, Jrue Holiday, Anthony Davis, Anthony Edwards, Bam Adebayo, Derrick White and Tyrese Haliburton.\n",
       "\n",
       "The star-studded team is set to tip off its Paris Olympic run on July 28, hoping to add to the 16 gold medals the USA has won in its 19 Olympic appearances. The team will be led by Steve Kerr, assisted by Erik Spoelstra, Tyronn Lue and Gonzaga's Mark Few.\n",
       "\n",
       "Team USA college stats\n",
       "\n",
       "LeBron James (N/A): James was drafted first overall in the 2003 NBA draft out of high school.\n",
       "\n",
       "Stephen Curry (Davidson): Curry had an incredible college career, averaging 25.3 points per game, 4.5 rebounds and 3.7 assists between 2006-09. Basketball fans got their first taste of the all-time great, who shot 41% from beyond the arc in his college career. During his final year with the Wildcats, Curry was the NCAA scoring leader, a consensus first-team All-American and a Wooden Award finalist. Davidson reached the Elite Eight during Curry's sophomore campaign as a 10-seed.\n",
       "\n",
       "Kevin Durant (Texas): Durant put together one of the best single seasons in college basketball history during the 2006-07 season. As a freshman, he won the Wooden and Naismith Awards, averaging 25.8 points, 11.1 rebounds, 1.3 assists and 1.9 blocks for the Longhorns.\n",
       "\n",
       "Joel Embiid (Kansas): Embiid averaged 11.2 points, 8.1 rebounds, 1.4 assists and 2.6 blocks during his lone season with the Jayhawks. Embiid led Kansas to its 10th consecutive Big 12 regular season championship, only trailing UCLA for most consecutive power conference titles.\n",
       "\n",
       "Jayson Tatum (Duke): Tatum was the star of the 2016-17 Blue Devils team, averaging 16.8 points, 7.3 rebounds and 2.1 assists during his sole season in Durham. The Tatum-led Blue Devils entered the NCAA tournament as a No. 2 seed, but they suffered a disappointing loss to seven-seed South Carolina in the second round.\n",
       "\n",
       "Kawhi Leonard* (San Diego State): Leonard averaged 14.1 points, 10.2 rebounds and 2.2 assists over two years with the Aztecs. Leonard was a part of the 2010-11 San Diego State team that advanced to the Sweet 16 of the NCAA tournament. The Aztecs finished 34-3 in Leonard's second and final season.\n",
       "\n",
       "Devin Booker (Kentucky): Booker was a part of the 2014-15 Wildcat's team that held nine future NBA players including Karl-Anthony Towns and Willie Cauley-Stein. Booker averaged 10 points, 2 rebounds and 1.1 assists in his only season with Kentucky. The Wildcats advanced to the Final Four before losing to Wisconsin.\n",
       "\n",
       "Jrue Holiday (UCLA): Holiday averaged 8.5 points, 3.8 rebounds, 3.7 assists and 1.6 steals during the 2008-09 season with the Bruins. He was named to the Pac-12 All-Freshman team before declaring for the NBA draft.\n",
       "\n",
       "Anthony Davis (Kentucky): Davis, similar to Durant, put together a magical single-season with the Wildcats, winning the Wooden and Naismith Awards. He averaged 14.2 points, 10.4 rebounds, 1.3 assists and a ridiculous 4.7 blocks during the 2011-12 season. The Davis-led Wildcats went 38-2 (16-0 SEC) and defeated Kansas in the 2012 NCAA tournament national championship.\n",
       "\n",
       "Anthony Edwards (Georgia): Edwards averaged 19.1 points, 5.2 rebounds and 2.8 assists during the 2019-20 season with the Bulldogs. He was named to the 2019-20 All-SEC team before declaring for the NBA draft.\n",
       "\n",
       "Bam Adebayo (Kentucky): Adebayo was a part of a loaded Kentucky team that rostered seven future NBA players. During his lone season with the Wildcats, Adebayo averaged 13 points, 8 rebounds, 0.8 assists and 1.5 blocks. Kentucky advanced to the Elite Eight with Adebayo before falling to North Carolina in the 2016-17 season.\n",
       "\n",
       "Tyrese Haliburton (Iowa State): Haliburton averaged 10.1 assists, 4.4 rebounds, 4.7 assists and 1.9 steals in two seasons with the Cyclones. He was named to the All-Big 12 team before declaring for the NBA draft after the 2019-20 season.\n",
       "\n",
       "Derrick White (Colorado): White began his career at Colorado–Colorado Springs before transferring to Colorado for his final season. After sitting out for a year due to transfer rules, White averaged 18.1 points, 4.1 rebounds, and 4.4 assists per game. White was named first-team All-Pac-12 and All-Defense in his lone season.\n",
       "\n",
       "*Kawhi Leonard withdrew from the men's national team on July 10. He was replaced by Derrick White."
      ],
      "text/plain": [
       "<IPython.core.display.Markdown object>"
      ]
     },
     "metadata": {},
     "output_type": "display_data"
    },
    {
     "name": "stdout",
     "output_type": "stream",
     "text": [
      "\n",
      "\n"
     ]
    }
   ],
   "source": [
    "from newspaper import Article\n",
    "from IPython.display import display, Markdown\n",
    "\n",
    "\n",
    "urls = [\"https://www.ncaa.com/news/basketball-men/olympics-2024/2024-07-10/2024-usa-mens-basketball-olympic-roster-college-careers-highlights?amp=\"]\n",
    "       \n",
    "\n",
    "for url in urls:\n",
    "    article = Article(url)\n",
    "    article.download()\n",
    "    article.parse()\n",
    "    # Jupyter Notebook Display\n",
    "    # print(article.title)\n",
    "    display(Markdown(article.title)) # Jupyter display only\n",
    "    display(Markdown(article.text)) # Jupyter display only\n",
    "    print(\"\\n\")\n"
   ]
  }
 ],
 "metadata": {
  "kernelspec": {
   "display_name": "venv",
   "language": "python",
   "name": "python3"
  },
  "language_info": {
   "codemirror_mode": {
    "name": "ipython",
    "version": 3
   },
   "file_extension": ".py",
   "mimetype": "text/x-python",
   "name": "python",
   "nbconvert_exporter": "python",
   "pygments_lexer": "ipython3",
   "version": "3.12.0"
  }
 },
 "nbformat": 4,
 "nbformat_minor": 2
}
