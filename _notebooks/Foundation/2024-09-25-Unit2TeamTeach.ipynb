{
 "cells": [
  {
   "cell_type": "markdown",
   "metadata": {},
   "source": [
    "# Unit 2 "
   ]
  },
  {
   "cell_type": "code",
   "execution_count": 3,
   "metadata": {},
   "outputs": [],
   "source": [
    "class Dog {\n",
    "    // Attributes\n",
    "    private String name;\n",
    "    private String breed;\n",
    "    private int age;\n",
    "\n",
    "    // Constructor\n",
    "    public Dog(String name, String breed, int age) {\n",
    "        this.name = name;\n",
    "        this.breed = breed;\n",
    "        this.age = age;\n",
    "    }\n",
    "\n",
    "    // Method to simulate barking\n",
    "    public void bark() {\n",
    "        System.out.println(\"Woof!\");\n",
    "    }\n",
    "}\n",
    "\n",
    "public class Main {\n",
    "    public static void main(String[] args) {\n",
    "        // Create a new Dog object\n",
    "        Dog myDog = new Dog(\"Shelby\", \"Golden Retriever\", 5);\n",
    "        \n",
    "        // Make the dog bark\n",
    "        myDog.bark(); // prints \"Woof!\"\n",
    "    }\n",
    "}\n"
   ]
  },
  {
   "cell_type": "code",
   "execution_count": 4,
   "metadata": {},
   "outputs": [
    {
     "name": "stdout",
     "output_type": "stream",
     "text": [
      "Movie Title: Iron Man\n"
     ]
    }
   ],
   "source": [
    "class Movie {\n",
    "    String title;\n",
    "    public Movie(String title) {\n",
    "        this.title = title;\n",
    "    }\n",
    "    public void printTitle() {\n",
    "        System.out.println(\"Movie Title: \" + this.title);\n",
    "    }\n",
    "}\n",
    "public class Main {\n",
    "    public static void main(String[] args) {\n",
    "        Movie myMovie = new Movie(\"Iron Man\");\n",
    "        myMovie.printTitle();\n",
    "    }\n",
    "}\n",
    "Main.main(null);"
   ]
  }
 ],
 "metadata": {
  "kernelspec": {
   "display_name": "Java",
   "language": "java",
   "name": "java"
  },
  "language_info": {
   "codemirror_mode": "java",
   "file_extension": ".jshell",
   "mimetype": "text/x-java-source",
   "name": "java",
   "pygments_lexer": "java",
   "version": "17.0.12+7"
  }
 },
 "nbformat": 4,
 "nbformat_minor": 2
}
