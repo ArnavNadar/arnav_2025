{
 "cells": [
  {
   "cell_type": "markdown",
   "metadata": {},
   "source": [
    "## Popcorn Hack #1"
   ]
  },
  {
   "cell_type": "code",
   "execution_count": 1,
   "metadata": {},
   "outputs": [],
   "source": [
    "public static int factorial(int target) {\n",
    "    if (target == 0 || target == 1) {\n",
    "        return 1;\n",
    "    }\n",
    "    return target * factorial(target - 1);\n",
    "}\n"
   ]
  },
  {
   "cell_type": "markdown",
   "metadata": {},
   "source": [
    "## Popcorn Hack #2"
   ]
  },
  {
   "cell_type": "code",
   "execution_count": 2,
   "metadata": {},
   "outputs": [],
   "source": [
    "public static int sumArray(int[] arr, int index) { \n",
    "    if (index >= arr.length) {\n",
    "        return 0;\n",
    "    }\n",
    "    return arr[index] + sumArray(arr, index + 1);\n",
    "}\n"
   ]
  },
  {
   "cell_type": "markdown",
   "metadata": {},
   "source": [
    "## Popcorn Hack #3"
   ]
  },
  {
   "cell_type": "code",
   "execution_count": 3,
   "metadata": {},
   "outputs": [],
   "source": [
    "public static void selectionSort(int[] arr, int index) {\n",
    "    if (index >= arr.length - 1) {\n",
    "        return;\n",
    "    }\n",
    "\n",
    "    int minIndex = index;\n",
    "    for (int i = index + 1; i < arr.length; i++) {\n",
    "        if (arr[i] < arr[minIndex]) {\n",
    "            minIndex = i;\n",
    "        }\n",
    "    }\n",
    "\n",
    "    int temp = arr[index];\n",
    "    arr[index] = arr[minIndex];\n",
    "    arr[minIndex] = temp;\n",
    "\n",
    "    selectionSort(arr, index + 1);\n",
    "}"
   ]
  },
  {
   "cell_type": "markdown",
   "metadata": {},
   "source": [
    "## Popcorn Hack #4"
   ]
  },
  {
   "cell_type": "code",
   "execution_count": 4,
   "metadata": {},
   "outputs": [],
   "source": [
    "public static int sumArray(int[][] arr, int x_index, int y_index) {\n",
    "    if (x_index >= arr.length) {\n",
    "        return 0;\n",
    "    }\n",
    "    if (y_index >= arr[x_index].length) {\n",
    "        return sumArray(arr, x_index + 1, 0);\n",
    "    }\n",
    "    return arr[x_index][y_index] + sumArray(arr, x_index, y_index + 1);\n",
    "}\n"
   ]
  },
  {
   "cell_type": "markdown",
   "metadata": {},
   "source": [
    "# Homework Hack "
   ]
  },
  {
   "cell_type": "code",
   "execution_count": 6,
   "metadata": {},
   "outputs": [],
   "source": [
    "public class Student {\n",
    "    String name;\n",
    "    int efficiency, collab, iq;\n",
    "    int performanceScore;\n",
    "\n",
    "    public Student(String name, int efficiency, int collab, int iq) {\n",
    "        this.name = name;\n",
    "        this.efficiency = efficiency;\n",
    "        this.collab = collab;\n",
    "        this.iq = iq;\n",
    "        this.performanceScore = calculatePerformanceScore();\n",
    "    }\n",
    "\n",
    "    public int calculatePerformanceScore() {\n",
    "        return (collab * 2) + (iq * 3) + efficiency;\n",
    "    }\n",
    "\n",
    "    @Override\n",
    "    public String toString() {\n",
    "        return name + \" - Performance Score: \" + performanceScore;\n",
    "    }\n",
    "}\n",
    "\n",
    "// filepath: /path/to/Recruitment.java\n",
    "public class Recruitment {\n",
    "    public static void main(String[] args) {\n",
    "        // Create an array of students\n",
    "        Student[] students = {\n",
    "            new Student(\"srijus\", 92, 98, 95),\n",
    "            new Student(\"aadit\", 97, 95, 97),\n",
    "            new Student(\"erox\", 89, 90, 93),\n",
    "            new Student(\"shubs\", 90, 92, 94),\n",
    "            new Student(\"aashray\", 59, 50, 53)\n",
    "        };\n",
    "\n",
    "        // Sort the students using recursion\n",
    "        sortStudents(students, 0);\n",
    "\n",
    "        // Get and print the sorted students as a string\n",
    "        System.out.println(getSortedStudents(students));\n",
    "    }\n",
    "\n",
    "    // Recursive method to sort the students array\n",
    "    public static void sortStudents(Student[] students, int index) {\n",
    "        // Base case: If index reaches the end of the array, stop\n",
    "        if (index >= students.length - 1) {\n",
    "            return;\n",
    "        }\n",
    "\n",
    "        // Find the student with the highest performance score in the remaining array\n",
    "        int maxIndex = index;\n",
    "        for (int i = index + 1; i < students.length; i++) {\n",
    "            if (students[i].performanceScore > students[maxIndex].performanceScore) {\n",
    "                maxIndex = i;\n",
    "            }\n",
    "        }\n",
    "\n",
    "        // Swap the highest scoring student with the current index\n",
    "        Student temp = students[index];\n",
    "        students[index] = students[maxIndex];\n",
    "        students[maxIndex] = temp;\n",
    "\n",
    "        // Recurse for the next index\n",
    "        sortStudents(students, index + 1);\n",
    "    }\n",
    "\n",
    "    // Method to get the sorted students as a string\n",
    "    public static String getSortedStudents(Student[] students) {\n",
    "        StringBuilder result = new StringBuilder();\n",
    "        for (Student student : students) {\n",
    "            result.append(student).append(\"\\n\");\n",
    "        }\n",
    "        return result.toString();\n",
    "    }\n",
    "}"
   ]
  }
 ],
 "metadata": {
  "kernelspec": {
   "display_name": "Java",
   "language": "java",
   "name": "java"
  },
  "language_info": {
   "codemirror_mode": "java",
   "file_extension": ".jshell",
   "mimetype": "text/x-java-source",
   "name": "java",
   "pygments_lexer": "java",
   "version": "17.0.12+7"
  }
 },
 "nbformat": 4,
 "nbformat_minor": 2
}
