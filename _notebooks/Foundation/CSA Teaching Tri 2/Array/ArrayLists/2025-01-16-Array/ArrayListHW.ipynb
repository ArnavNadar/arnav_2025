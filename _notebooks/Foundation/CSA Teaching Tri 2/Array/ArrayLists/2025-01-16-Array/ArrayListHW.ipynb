{
 "cells": [
  {
   "cell_type": "markdown",
   "metadata": {},
   "source": [
    "## Homework Hack "
   ]
  },
  {
   "cell_type": "code",
   "execution_count": null,
   "metadata": {
    "vscode": {
     "languageId": "java"
    }
   },
   "outputs": [],
   "source": [
    "import java.util.ArrayList;\n",
    "import java.util.Scanner;\n",
    "\n",
    "public class MatrixMaxOnes {\n",
    "    public static void main(String[] args) {\n",
    "        Scanner scanner = new Scanner(System.in);\n",
    "\n",
    "        // Get the matrix size from the user\n",
    "        System.out.print(\"Enter the array size n: \");\n",
    "        int n = scanner.nextInt();\n",
    "\n",
    "        // Generate the matrix with random 0s and 1s\n",
    "        int[][] matrix = new int[n][n];\n",
    "        for (int i = 0; i < n; i++) {\n",
    "            for (int j = 0; j < n; j++) {\n",
    "                matrix[i][j] = (int) (Math.random() * 2);\n",
    "            }\n",
    "        }\n",
    "\n",
    "        // Print the matrix\n",
    "        System.out.println(\"The random array is\");\n",
    "        for (int[] row : matrix) {\n",
    "            for (int value : row) {\n",
    "                System.out.print(value);\n",
    "            }\n",
    "            System.out.println();\n",
    "        }\n",
    "\n",
    "        // Find rows with the most 1s\n",
    "        ArrayList<Integer> largestRows = new ArrayList<>();\n",
    "        int maxRowCount = 0;\n",
    "        for (int i = 0; i < n; i++) {\n",
    "            int rowCount = 0;\n",
    "            for (int j = 0; j < n; j++) {\n",
    "                if (matrix[i][j] == 1) rowCount++;\n",
    "            }\n",
    "            if (rowCount > maxRowCount) {\n",
    "                maxRowCount = rowCount;\n",
    "                largestRows.clear();\n",
    "                largestRows.add(i);\n",
    "            } else if (rowCount == maxRowCount) {\n",
    "                largestRows.add(i);\n",
    "            }\n",
    "        }\n",
    "\n",
    "        // Find columns with the most 1s\n",
    "        ArrayList<Integer> largestCols = new ArrayList<>();\n",
    "        int maxColCount = 0;\n",
    "        for (int j = 0; j < n; j++) {\n",
    "            int colCount = 0;\n",
    "            for (int i = 0; i < n; i++) {\n",
    "                if (matrix[i][j] == 1) colCount++;\n",
    "            }\n",
    "            if (colCount > maxColCount) {\n",
    "                maxColCount = colCount;\n",
    "                largestCols.clear();\n",
    "                largestCols.add(j);\n",
    "            } else if (colCount == maxColCount) {\n",
    "                largestCols.add(j);\n",
    "            }\n",
    "        }\n",
    "\n",
    "        // Output the results\n",
    "        System.out.println(\"The largest row index: \" + largestRows);\n",
    "        System.out.println(\"The largest column index: \" + largestCols);\n",
    "    }\n",
    "}"
   ]
  }
 ],
 "metadata": {
  "language_info": {
   "name": "python"
  }
 },
 "nbformat": 4,
 "nbformat_minor": 2
}
