{
 "cells": [
  {
   "cell_type": "markdown",
   "metadata": {},
   "source": [
    "## Popcorn Hack 1"
   ]
  },
  {
   "cell_type": "code",
   "execution_count": 2,
   "metadata": {},
   "outputs": [],
   "source": [
    "public class Cat {\n",
    "    private String sound;\n",
    "\n",
    "    public Cat(String noise) {\n",
    "        this.sound = noise;\n",
    "    }\n",
    "    public String getSound() {\n",
    "        return sound;\n",
    "    }\n",
    "    public static void main(String[] args) {\n",
    "        Cat myCat = new Cat(\"Meow\");\n",
    "        System.out.println(\"The cat says: \" + myCat.getSound()); // Output: \"The cat says: Meow\"\n",
    "    }\n",
    "}"
   ]
  },
  {
   "cell_type": "markdown",
   "metadata": {},
   "source": [
    "## Popcorn Hack 2"
   ]
  },
  {
   "cell_type": "code",
   "execution_count": 1,
   "metadata": {},
   "outputs": [],
   "source": [
    "public class Cat {\n",
    "    private String noise;\n",
    "\n",
    "    public Cat(String noise) {\n",
    "        this.noise = noise;\n",
    "    }\n",
    "    public String makeQuietNoise() {\n",
    "        return (noise == null || noise.isEmpty()) ? null : noise.toLowerCase();\n",
    "    }\n",
    "    public String makeReverseNoise() {\n",
    "        return (noise == null || noise.isEmpty()) ? null : new StringBuilder(noise).reverse().toString();\n",
    "    }\n",
    "    public static void main(String[] args) {\n",
    "        Cat cat = new Cat(\"Meow\");\n",
    "        System.out.println(cat.makeQuietNoise()); // Output: \"meow\"\n",
    "        System.out.println(cat.makeReverseNoise()); // Output: \"woeM\"\n",
    "\n",
    "        Cat silentCat = new Cat(\"\");\n",
    "        System.out.println(silentCat.makeQuietNoise()); // Output: null\n",
    "        System.out.println(silentCat.makeReverseNoise()); // Output: null\n",
    "    }\n",
    "}"
   ]
  },
  {
   "cell_type": "markdown",
   "metadata": {},
   "source": [
    "## Homework "
   ]
  },
  {
   "cell_type": "code",
   "execution_count": null,
   "metadata": {},
   "outputs": [],
   "source": []
  }
 ],
 "metadata": {
  "kernelspec": {
   "display_name": "Java",
   "language": "java",
   "name": "java"
  },
  "language_info": {
   "codemirror_mode": "java",
   "file_extension": ".jshell",
   "mimetype": "text/x-java-source",
   "name": "java",
   "pygments_lexer": "java",
   "version": "17.0.12+7"
  }
 },
 "nbformat": 4,
 "nbformat_minor": 2
}
