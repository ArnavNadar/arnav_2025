{
 "cells": [
  {
   "cell_type": "markdown",
   "metadata": {},
   "source": [
    "---\n",
    "layout: post\n",
    "title:  Classes Popcorn Hack and Homework\n",
    "description:  Team Teach for Classes\n",
    "permalink: /classeshw\n",
    "---"
   ]
  },
  {
   "cell_type": "markdown",
   "metadata": {},
   "source": [
    "## Popcorn Hack 1"
   ]
  },
  {
   "cell_type": "code",
   "execution_count": 2,
   "metadata": {
    "vscode": {
     "languageId": "java"
    }
   },
   "outputs": [],
   "source": [
    "public class Cat {\n",
    "    private String sound;\n",
    "\n",
    "    public Cat(String noise) {\n",
    "        this.sound = noise;\n",
    "    }\n",
    "    public String getSound() {\n",
    "        return sound;\n",
    "    }\n",
    "    public static void main(String[] args) {\n",
    "        Cat myCat = new Cat(\"Meow\");\n",
    "        System.out.println(\"The cat says: \" + myCat.getSound()); // Output: \"The cat says: Meow\"\n",
    "    }\n",
    "}"
   ]
  },
  {
   "cell_type": "markdown",
   "metadata": {},
   "source": [
    "## Popcorn Hack 2"
   ]
  },
  {
   "cell_type": "code",
   "execution_count": 1,
   "metadata": {
    "vscode": {
     "languageId": "java"
    }
   },
   "outputs": [],
   "source": [
    "public class Cat {\n",
    "    private String noise;\n",
    "\n",
    "    public Cat(String noise) {\n",
    "        this.noise = noise;\n",
    "    }\n",
    "    public String makeQuietNoise() {\n",
    "        return (noise == null || noise.isEmpty()) ? null : noise.toLowerCase();\n",
    "    }\n",
    "    public String makeReverseNoise() {\n",
    "        return (noise == null || noise.isEmpty()) ? null : new StringBuilder(noise).reverse().toString();\n",
    "    }\n",
    "    public static void main(String[] args) {\n",
    "        Cat cat = new Cat(\"Meow\");\n",
    "        System.out.println(cat.makeQuietNoise()); // Output: \"meow\"\n",
    "        System.out.println(cat.makeReverseNoise()); // Output: \"woeM\"\n",
    "\n",
    "        Cat silentCat = new Cat(\"\");\n",
    "        System.out.println(silentCat.makeQuietNoise()); // Output: null\n",
    "        System.out.println(silentCat.makeReverseNoise()); // Output: null\n",
    "    }\n",
    "}"
   ]
  },
  {
   "cell_type": "markdown",
   "metadata": {},
   "source": [
    "## Homework "
   ]
  },
  {
   "cell_type": "code",
   "execution_count": 1,
   "metadata": {
    "vscode": {
     "languageId": "java"
    }
   },
   "outputs": [
    {
     "name": "stdout",
     "output_type": "stream",
     "text": [
      "7 times 3\n",
      "7 times 4\n"
     ]
    }
   ],
   "source": [
    "public interface StudyPractice {\n",
    "    String getProblem();\n",
    "\n",
    "    void nextProblem();\n",
    "}\n",
    "\n",
    "public class MultProblems implements StudyPractice {\n",
    "    private int first;\n",
    "    private int second;\n",
    "\n",
    "    public MultProblems(int first, int second) {\n",
    "        this.first = first;\n",
    "        this.second = second;\n",
    "    }\n",
    "\n",
    "    @Override\n",
    "    public String getProblem() {\n",
    "        return first + \" times \" + second;\n",
    "    }\n",
    "\n",
    "    @Override\n",
    "    public void nextProblem() {\n",
    "        this.second = second + 1;\n",
    "    }\n",
    "\n",
    "\n",
    "}\n",
    "\n",
    "StudyPractice p1 = new MultProblems(7, 3);\n",
    "System.out.println(p1.getProblem());\n",
    "p1.nextProblem();\n",
    "System.out.println(p1.getProblem());"
   ]
  }
 ],
 "metadata": {
  "kernelspec": {
   "display_name": "Java",
   "language": "java",
   "name": "java"
  },
  "language_info": {
   "codemirror_mode": "java",
   "file_extension": ".jshell",
   "mimetype": "text/x-java-source",
   "name": "Java",
   "pygments_lexer": "java",
   "version": "17.0.12+7"
  }
 },
 "nbformat": 4,
 "nbformat_minor": 2
}
